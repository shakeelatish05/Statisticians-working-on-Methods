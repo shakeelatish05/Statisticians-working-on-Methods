{
 "cells": [
  {
   "cell_type": "code",
   "execution_count": 46,
   "id": "4c33f4b0",
   "metadata": {},
   "outputs": [],
   "source": [
    "import pandas as pd\n",
    "import matplotlib.pyplot as plt\n",
    "import numpy as np\n",
    "from sklearn.linear_model import LogisticRegression # import the class\n",
    "from sklearn.model_selection import train_test_split ##for spliting data\n",
    "#from sklearn import datasets, linear_model, metrics ##for linear regression model\n",
    "from sklearn.metrics import classification_report, confusion_matrix"
   ]
  },
  {
   "cell_type": "code",
   "execution_count": 47,
   "id": "6a92ed6b",
   "metadata": {},
   "outputs": [
    {
     "name": "stdout",
     "output_type": "stream",
     "text": [
      "     Case  Class           I0     PA500       HFS           DA           Area  \\\n",
      "0        1   car   524.794072  0.187448  0.032114   228.800228    6843.598481   \n",
      "1        2   car   330.000000  0.226893  0.265290   121.154201    3163.239472   \n",
      "2        3   car   551.879287  0.232478  0.063530   264.804935   11888.391830   \n",
      "3        4   car   380.000000  0.240855  0.286234   137.640111    5402.171180   \n",
      "4        5   car   362.831266  0.200713  0.244346   124.912559    3290.462446   \n",
      "..     ...   ...          ...       ...       ...          ...            ...   \n",
      "101    102   adi  2000.000000  0.106989  0.105418   520.222649   40087.920980   \n",
      "102    103   adi  2600.000000  0.200538  0.208043  1063.441427  174480.476200   \n",
      "103    104   adi  1600.000000  0.071908 -0.066323   436.943603   12655.342130   \n",
      "104    105   adi  2300.000000  0.045029  0.136834   185.446044    5086.292497   \n",
      "105    106   adi  2600.000000  0.069988  0.048869   745.474369   39845.773700   \n",
      "\n",
      "           A/DA      Max IP          DR            P  \n",
      "0     29.910803   60.204880  220.737212   556.828334  \n",
      "1     26.109202   69.717361   99.084964   400.225776  \n",
      "2     44.894903   77.793297  253.785300   656.769449  \n",
      "3     39.248524   88.758446  105.198568   493.701814  \n",
      "4     26.342127   69.389389  103.866552   424.796503  \n",
      "..          ...         ...         ...          ...  \n",
      "101   77.059161  204.090347  478.517223  2088.648870  \n",
      "102  164.071543  418.687286  977.552367  2664.583623  \n",
      "103   28.963331  103.732704  432.129749  1475.371534  \n",
      "104   27.427344  178.691742   49.593290  2480.592151  \n",
      "105   53.450226  154.122604  729.368395  2545.419744  \n",
      "\n",
      "[106 rows x 11 columns]\n"
     ]
    }
   ],
   "source": [
    "import statsmodels.api as sm ##for ols\n",
    "df = pd.read_csv(r'C:\\Users\\Admin\\OneDrive - National University of Sciences & Technology\\Desktop\\Breast Cancer\\BreastTissue.csv')   #read the csv file (put 'r' before the path string to address any special characters in the path, such as '\\'). Don't forget to put the file name at the end of the path + \".csv\"\n",
    "print (df)\n",
    "df['Class'] = np.where(df['Class'] == \"car\", 1, 0)##Recoding variable and converting to dummy \n",
    "df.head()\n",
    "features = ['DA', 'Area']\n",
    "X = df.loc[:, features] ### Sub-data consisting all X variables\n",
    "X = sm.add_constant(X)\n",
    "y = df.loc[:, ['Class']]##Dependent variable\n",
    "X_train, X_test, y_train, y_test = train_test_split(X, y, \n",
    "random_state=0, train_size = .75)##Spliting data into training and testing"
   ]
  },
  {
   "cell_type": "code",
   "execution_count": 48,
   "id": "32633406",
   "metadata": {},
   "outputs": [
    {
     "name": "stderr",
     "output_type": "stream",
     "text": [
      "C:\\Users\\Admin\\anaconda3\\lib\\site-packages\\sklearn\\utils\\validation.py:993: DataConversionWarning: A column-vector y was passed when a 1d array was expected. Please change the shape of y to (n_samples, ), for example using ravel().\n",
      "  y = column_or_1d(y, warn=True)\n"
     ]
    },
    {
     "data": {
      "text/plain": [
       "LogisticRegression(random_state=0, solver='liblinear')"
      ]
     },
     "execution_count": 48,
     "metadata": {},
     "output_type": "execute_result"
    }
   ],
   "source": [
    "\n",
    "# instantiate the model (using the default parameters)\n",
    "logreg = LogisticRegression(solver='liblinear', random_state=0)\n",
    "\n",
    "# fit the model with data\n",
    "logreg.fit(X_train, y_train)"
   ]
  },
  {
   "cell_type": "code",
   "execution_count": 49,
   "id": "eb76c791",
   "metadata": {},
   "outputs": [],
   "source": [
    "y_pred = logreg.predict(X_test)## Prediction for test set"
   ]
  },
  {
   "cell_type": "code",
   "execution_count": 50,
   "id": "4946a014",
   "metadata": {},
   "outputs": [
    {
     "data": {
      "text/plain": [
       "array([[20,  0],\n",
       "       [ 7,  0]], dtype=int64)"
      ]
     },
     "execution_count": 50,
     "metadata": {},
     "output_type": "execute_result"
    }
   ],
   "source": [
    "y_pred #predicted values\n",
    "from sklearn import metrics   # import the metrics class\n",
    "\n",
    "cnf_matrix = metrics.confusion_matrix(y_test, y_pred)\n",
    "cnf_matrix"
   ]
  },
  {
   "cell_type": "code",
   "execution_count": 51,
   "id": "0e98a0dc",
   "metadata": {},
   "outputs": [
    {
     "data": {
      "text/plain": [
       "Text(0.5, 257.44, 'Predicted Class')"
      ]
     },
     "execution_count": 51,
     "metadata": {},
     "output_type": "execute_result"
    },
    {
     "data": {
      "image/png": "[encoded data removed]",
      "text/plain": [
       "<Figure size 432x288 with 2 Axes>"
      ]
     },
     "metadata": {
      "needs_background": "light"
     },
     "output_type": "display_data"
    }
   ],
   "source": [
    "\n",
    "#Visualizing Confusion Matrix using Heatmap\n",
    "# import required modules\n",
    "import numpy as np\n",
    "import matplotlib.pyplot as plt\n",
    "import seaborn as sns\n",
    "\n",
    "class_names=[0,1] # name  of classes\n",
    "fig, ax = plt.subplots()\n",
    "tick_marks = np.arange(len(class_names))\n",
    "plt.xticks(tick_marks, class_names)\n",
    "plt.yticks(tick_marks, class_names)\n",
    "# create heatmap\n",
    "sns.heatmap(pd.DataFrame(cnf_matrix), annot=True, cmap=\"YlGnBu\" ,fmt='g') ##map color Yellow-Green-Blue \n",
    "ax.xaxis.set_label_position(\"top\")\n",
    "plt.tight_layout()\n",
    "plt.title('Confusion matrix', y=1.1)\n",
    "plt.ylabel('Actual Class')\n",
    "plt.xlabel('Predicted Class')"
   ]
  },
  {
   "cell_type": "code",
   "execution_count": 52,
   "id": "76dfdfd5",
   "metadata": {},
   "outputs": [
    {
     "data": {
      "image/png": "[encoded data removed]",
      "text/plain": [
       "<Figure size 432x288 with 1 Axes>"
      ]
     },
     "metadata": {
      "needs_background": "light"
     },
     "output_type": "display_data"
    }
   ],
   "source": [
    "##RoC Curve Receiver Operating Characteristic(ROC) curve is a plot of the\n",
    "#true positive rate against the false positive rate. \n",
    "#It shows the tradeoff between sensitivity and specificity.\n",
    "y_pred_proba = logreg.predict_proba(X_test)[::,1] ##predicted probability\n",
    "fpr, tpr, _ = metrics.roc_curve(y_test,  y_pred_proba)##Metric roc_curve\n",
    "auc = metrics.roc_auc_score(y_test, y_pred_proba)##AUC score for the case is 0.88. \n",
    "##AUC score 1 represents a perfect classifier, \n",
    "##AUC 0.5 represents a worthless classifier.\n",
    "plt.plot(fpr,tpr,label=\"Data 1, AUC=\"+str(auc))\n",
    "plt.legend(loc=4)\n",
    "plt.show()"
   ]
  },
  {
   "cell_type": "code",
   "execution_count": 55,
   "id": "016d55fa",
   "metadata": {},
   "outputs": [
    {
     "data": {
      "text/plain": [
       "array([0, 1])"
      ]
     },
     "execution_count": 55,
     "metadata": {},
     "output_type": "execute_result"
    }
   ],
   "source": [
    "#model = LogisticRegression(solver='liblinear', random_state=0)\n",
    "#logreg.fit(X, y)\n",
    "logreg.classes_"
   ]
  },
  {
   "cell_type": "code",
   "execution_count": 58,
   "id": "a25ecfe2",
   "metadata": {},
   "outputs": [
    {
     "data": {
      "text/plain": [
       "array([[0.878223  , 0.121777  ],\n",
       "       [0.81791447, 0.18208553],\n",
       "       [0.8021551 , 0.1978449 ],\n",
       "       [0.81955861, 0.18044139],\n",
       "       [0.77333815, 0.22666185],\n",
       "       [0.83998614, 0.16001386],\n",
       "       [0.90116012, 0.09883988],\n",
       "       [0.77942234, 0.22057766],\n",
       "       [0.77624938, 0.22375062],\n",
       "       [0.8307764 , 0.1692236 ],\n",
       "       [0.76006427, 0.23993573],\n",
       "       [0.76239298, 0.23760702],\n",
       "       [0.76115449, 0.23884551],\n",
       "       [0.76364777, 0.23635223],\n",
       "       [0.81253721, 0.18746279],\n",
       "       [0.79564853, 0.20435147],\n",
       "       [0.79875098, 0.20124902],\n",
       "       [0.80897534, 0.19102466],\n",
       "       [0.84583212, 0.15416788],\n",
       "       [0.79478295, 0.20521705],\n",
       "       [0.86395652, 0.13604348],\n",
       "       [0.80131636, 0.19868364],\n",
       "       [0.77071557, 0.22928443],\n",
       "       [0.86681232, 0.13318768],\n",
       "       [0.77229446, 0.22770554],\n",
       "       [0.7902805 , 0.2097195 ],\n",
       "       [0.76006241, 0.23993759]])"
      ]
     },
     "execution_count": 58,
     "metadata": {},
     "output_type": "execute_result"
    }
   ],
   "source": [
    "logreg.classes_  ##classes\n",
    "logreg.intercept_ ##Intercept of model\n",
    "logreg.coef_ ##Coefficiencts\n",
    "logreg.predict_proba(X_test) ##Predicred Probabilities"
   ]
  },
  {
   "cell_type": "code",
   "execution_count": 61,
   "id": "7db6c79a",
   "metadata": {},
   "outputs": [
    {
     "data": {
      "text/plain": [
       "0.8227848101265823"
      ]
     },
     "execution_count": 61,
     "metadata": {},
     "output_type": "execute_result"
    }
   ],
   "source": [
    "logreg.score(X_train, y_train) ##ratio of the number of correct predictions to the number of observations."
   ]
  },
  {
   "cell_type": "code",
   "execution_count": 71,
   "id": "6c7954e8",
   "metadata": {},
   "outputs": [
    {
     "name": "stdout",
     "output_type": "stream",
     "text": [
      "Optimization terminated successfully.\n",
      "         Current function value: 0.495955\n",
      "         Iterations 6\n"
     ]
    },
    {
     "data": {
      "text/html": [
       "<table class=\"simpletable\">\n",
       "<caption>Logit Regression Results</caption>\n",
       "<tr>\n",
       "  <th>Dep. Variable:</th>         <td>Class</td>      <th>  No. Observations:  </th>  <td>   106</td> \n",
       "</tr>\n",
       "<tr>\n",
       "  <th>Model:</th>                 <td>Logit</td>      <th>  Df Residuals:      </th>  <td>   103</td> \n",
       "</tr>\n",
       "<tr>\n",
       "  <th>Method:</th>                 <td>MLE</td>       <th>  Df Model:          </th>  <td>     2</td> \n",
       "</tr>\n",
       "<tr>\n",
       "  <th>Date:</th>            <td>Sat, 08 Oct 2022</td> <th>  Pseudo R-squ.:     </th> <td>0.003658</td>\n",
       "</tr>\n",
       "<tr>\n",
       "  <th>Time:</th>                <td>22:43:00</td>     <th>  Log-Likelihood:    </th> <td> -52.571</td>\n",
       "</tr>\n",
       "<tr>\n",
       "  <th>converged:</th>             <td>True</td>       <th>  LL-Null:           </th> <td> -52.764</td>\n",
       "</tr>\n",
       "<tr>\n",
       "  <th>Covariance Type:</th>     <td>nonrobust</td>    <th>  LLR p-value:       </th>  <td>0.8245</td> \n",
       "</tr>\n",
       "</table>\n",
       "<table class=\"simpletable\">\n",
       "<tr>\n",
       "    <td></td>       <th>coef</th>     <th>std err</th>      <th>z</th>      <th>P>|z|</th>  <th>[0.025</th>    <th>0.975]</th>  \n",
       "</tr>\n",
       "<tr>\n",
       "  <th>const</th> <td>   -1.2513</td> <td>    0.362</td> <td>   -3.453</td> <td> 0.001</td> <td>   -1.961</td> <td>   -0.541</td>\n",
       "</tr>\n",
       "<tr>\n",
       "  <th>DA</th>    <td>   -0.0008</td> <td>    0.002</td> <td>   -0.371</td> <td> 0.711</td> <td>   -0.005</td> <td>    0.003</td>\n",
       "</tr>\n",
       "<tr>\n",
       "  <th>Area</th>  <td> -1.39e-06</td> <td> 2.45e-05</td> <td>   -0.057</td> <td> 0.955</td> <td>-4.94e-05</td> <td> 4.66e-05</td>\n",
       "</tr>\n",
       "</table>"
      ],
      "text/plain": [
       "<class 'statsmodels.iolib.summary.Summary'>\n",
       "\"\"\"\n",
       "                           Logit Regression Results                           \n",
       "==============================================================================\n",
       "Dep. Variable:                  Class   No. Observations:                  106\n",
       "Model:                          Logit   Df Residuals:                      103\n",
       "Method:                           MLE   Df Model:                            2\n",
       "Date:                Sat, 08 Oct 2022   Pseudo R-squ.:                0.003658\n",
       "Time:                        22:43:00   Log-Likelihood:                -52.571\n",
       "converged:                       True   LL-Null:                       -52.764\n",
       "Covariance Type:            nonrobust   LLR p-value:                    0.8245\n",
       "==============================================================================\n",
       "                 coef    std err          z      P>|z|      [0.025      0.975]\n",
       "------------------------------------------------------------------------------\n",
       "const         -1.2513      0.362     -3.453      0.001      -1.961      -0.541\n",
       "DA            -0.0008      0.002     -0.371      0.711      -0.005       0.003\n",
       "Area        -1.39e-06   2.45e-05     -0.057      0.955   -4.94e-05    4.66e-05\n",
       "==============================================================================\n",
       "\"\"\""
      ]
     },
     "execution_count": 71,
     "metadata": {},
     "output_type": "execute_result"
    }
   ],
   "source": [
    "###Runing Logistic Regression Using State.Model Package (sm)\n",
    "\n",
    "m2 = sm.Logit(y, X)\n",
    "result = m2.fit(method='newton')\n",
    "m2.params\n",
    "m2.predict(X)\n",
    "(result.predict(X) >= 0.5).astype(int)\n",
    "m2.pred_table()\n",
    "m2.summary()"
   ]
  },
  {
   "cell_type": "code",
   "execution_count": null,
   "id": "850590f2",
   "metadata": {},
   "outputs": [],
   "source": []
  }
 ],
 "metadata": {
  "kernelspec": {
   "display_name": "Python 3 (ipykernel)",
   "language": "python",
   "name": "python3"
  },
  "language_info": {
   "codemirror_mode": {
    "name": "ipython",
    "version": 3
   },
   "file_extension": ".py",
   "mimetype": "text/x-python",
   "name": "python",
   "nbconvert_exporter": "python",
   "pygments_lexer": "ipython3",
   "version": "3.9.12"
  }
 },
 "nbformat": 4,
 "nbformat_minor": 5
}
