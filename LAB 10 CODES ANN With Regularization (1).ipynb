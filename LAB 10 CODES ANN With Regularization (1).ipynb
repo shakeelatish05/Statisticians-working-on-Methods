{
 "cells": [
  {
   "cell_type": "markdown",
   "id": "b01f042b",
   "metadata": {},
   "source": [
    "https://www.freecodecamp.org/news/how-to-build-your-first-neural-network-to-predict-house-prices-with-keras-f8db83049159/"
   ]
  },
  {
   "cell_type": "code",
   "execution_count": 1,
   "id": "1d7bd8eb",
   "metadata": {},
   "outputs": [
    {
     "data": {
      "text/html": [
       "<div>\n",
       "<style scoped>\n",
       "    .dataframe tbody tr th:only-of-type {\n",
       "        vertical-align: middle;\n",
       "    }\n",
       "\n",
       "    .dataframe tbody tr th {\n",
       "        vertical-align: top;\n",
       "    }\n",
       "\n",
       "    .dataframe thead th {\n",
       "        text-align: right;\n",
       "    }\n",
       "</style>\n",
       "<table border=\"1\" class=\"dataframe\">\n",
       "  <thead>\n",
       "    <tr style=\"text-align: right;\">\n",
       "      <th></th>\n",
       "      <th>LotArea</th>\n",
       "      <th>OverallQual</th>\n",
       "      <th>OverallCond</th>\n",
       "      <th>TotalBsmtSF</th>\n",
       "      <th>FullBath</th>\n",
       "      <th>HalfBath</th>\n",
       "      <th>BedroomAbvGr</th>\n",
       "      <th>TotRmsAbvGrd</th>\n",
       "      <th>Fireplaces</th>\n",
       "      <th>GarageArea</th>\n",
       "      <th>AboveMedianPrice</th>\n",
       "    </tr>\n",
       "  </thead>\n",
       "  <tbody>\n",
       "    <tr>\n",
       "      <th>0</th>\n",
       "      <td>8450</td>\n",
       "      <td>7</td>\n",
       "      <td>5</td>\n",
       "      <td>856</td>\n",
       "      <td>2</td>\n",
       "      <td>1</td>\n",
       "      <td>3</td>\n",
       "      <td>8</td>\n",
       "      <td>0</td>\n",
       "      <td>548</td>\n",
       "      <td>1</td>\n",
       "    </tr>\n",
       "    <tr>\n",
       "      <th>1</th>\n",
       "      <td>9600</td>\n",
       "      <td>6</td>\n",
       "      <td>8</td>\n",
       "      <td>1262</td>\n",
       "      <td>2</td>\n",
       "      <td>0</td>\n",
       "      <td>3</td>\n",
       "      <td>6</td>\n",
       "      <td>1</td>\n",
       "      <td>460</td>\n",
       "      <td>1</td>\n",
       "    </tr>\n",
       "    <tr>\n",
       "      <th>2</th>\n",
       "      <td>11250</td>\n",
       "      <td>7</td>\n",
       "      <td>5</td>\n",
       "      <td>920</td>\n",
       "      <td>2</td>\n",
       "      <td>1</td>\n",
       "      <td>3</td>\n",
       "      <td>6</td>\n",
       "      <td>1</td>\n",
       "      <td>608</td>\n",
       "      <td>1</td>\n",
       "    </tr>\n",
       "    <tr>\n",
       "      <th>3</th>\n",
       "      <td>9550</td>\n",
       "      <td>7</td>\n",
       "      <td>5</td>\n",
       "      <td>756</td>\n",
       "      <td>1</td>\n",
       "      <td>0</td>\n",
       "      <td>3</td>\n",
       "      <td>7</td>\n",
       "      <td>1</td>\n",
       "      <td>642</td>\n",
       "      <td>0</td>\n",
       "    </tr>\n",
       "    <tr>\n",
       "      <th>4</th>\n",
       "      <td>14260</td>\n",
       "      <td>8</td>\n",
       "      <td>5</td>\n",
       "      <td>1145</td>\n",
       "      <td>2</td>\n",
       "      <td>1</td>\n",
       "      <td>4</td>\n",
       "      <td>9</td>\n",
       "      <td>1</td>\n",
       "      <td>836</td>\n",
       "      <td>1</td>\n",
       "    </tr>\n",
       "  </tbody>\n",
       "</table>\n",
       "</div>"
      ],
      "text/plain": [
       "   LotArea  OverallQual  OverallCond  TotalBsmtSF  FullBath  HalfBath  \\\n",
       "0     8450            7            5          856         2         1   \n",
       "1     9600            6            8         1262         2         0   \n",
       "2    11250            7            5          920         2         1   \n",
       "3     9550            7            5          756         1         0   \n",
       "4    14260            8            5         1145         2         1   \n",
       "\n",
       "   BedroomAbvGr  TotRmsAbvGrd  Fireplaces  GarageArea  AboveMedianPrice  \n",
       "0             3             8           0         548                 1  \n",
       "1             3             6           1         460                 1  \n",
       "2             3             6           1         608                 1  \n",
       "3             3             7           1         642                 0  \n",
       "4             4             9           1         836                 1  "
      ]
     },
     "execution_count": 1,
     "metadata": {},
     "output_type": "execute_result"
    }
   ],
   "source": [
    "import pandas as pd\n",
    "# Importing the house price dataset\n",
    "df=pd.read_csv(r'C:\\Users\\Admin\\OneDrive - National University of Sciences & Technology\\Desktop\\Python-Lectures\\housepricedata.csv')\n",
    "df.head() "
   ]
  },
  {
   "cell_type": "code",
   "execution_count": 2,
   "id": "c38b7dd4",
   "metadata": {},
   "outputs": [
    {
     "data": {
      "text/plain": [
       "array([[ 8450,     7,     5, ...,     0,   548,     1],\n",
       "       [ 9600,     6,     8, ...,     1,   460,     1],\n",
       "       [11250,     7,     5, ...,     1,   608,     1],\n",
       "       ...,\n",
       "       [ 9042,     7,     9, ...,     2,   252,     1],\n",
       "       [ 9717,     5,     6, ...,     0,   240,     0],\n",
       "       [ 9937,     5,     6, ...,     0,   276,     0]], dtype=int64)"
      ]
     },
     "execution_count": 2,
     "metadata": {},
     "output_type": "execute_result"
    }
   ],
   "source": [
    "dataset = df.values### Converting data set into arrays\n",
    "dataset"
   ]
  },
  {
   "cell_type": "code",
   "execution_count": 3,
   "id": "64700585",
   "metadata": {},
   "outputs": [
    {
     "data": {
      "text/plain": [
       "(array([[ 8450,     7,     5, ...,     8,     0,   548],\n",
       "        [ 9600,     6,     8, ...,     6,     1,   460],\n",
       "        [11250,     7,     5, ...,     6,     1,   608],\n",
       "        ...,\n",
       "        [ 9042,     7,     9, ...,     9,     2,   252],\n",
       "        [ 9717,     5,     6, ...,     5,     0,   240],\n",
       "        [ 9937,     5,     6, ...,     6,     0,   276]], dtype=int64),\n",
       " array([1, 1, 1, ..., 1, 0, 0], dtype=int64))"
      ]
     },
     "execution_count": 3,
     "metadata": {},
     "output_type": "execute_result"
    }
   ],
   "source": [
    "X = dataset[:,0:10] ##First 10 variables as the input vectors\n",
    "X\n",
    "Y = dataset[:,10]## output vector Price of house\n",
    "\n",
    "X,Y"
   ]
  },
  {
   "cell_type": "code",
   "execution_count": 4,
   "id": "22061de5",
   "metadata": {},
   "outputs": [],
   "source": [
    "from sklearn import preprocessing ## Import sklearn for data pre-processing"
   ]
  },
  {
   "cell_type": "code",
   "execution_count": 5,
   "id": "975a9a6e",
   "metadata": {},
   "outputs": [
    {
     "data": {
      "text/plain": [
       "array([[0.0334198 , 0.66666667, 0.5       , ..., 0.5       , 0.        ,\n",
       "        0.3864598 ],\n",
       "       [0.03879502, 0.55555556, 0.875     , ..., 0.33333333, 0.33333333,\n",
       "        0.32440056],\n",
       "       [0.04650728, 0.66666667, 0.5       , ..., 0.33333333, 0.33333333,\n",
       "        0.42877292],\n",
       "       ...,\n",
       "       [0.03618687, 0.66666667, 1.        , ..., 0.58333333, 0.66666667,\n",
       "        0.17771509],\n",
       "       [0.03934189, 0.44444444, 0.625     , ..., 0.25      , 0.        ,\n",
       "        0.16925247],\n",
       "       [0.04037019, 0.44444444, 0.625     , ..., 0.33333333, 0.        ,\n",
       "        0.19464034]])"
      ]
     },
     "execution_count": 5,
     "metadata": {},
     "output_type": "execute_result"
    }
   ],
   "source": [
    "min_max_scaler = preprocessing.MinMaxScaler()\n",
    "X_scale = min_max_scaler.fit_transform(X)###scales the dataset so that all the input features lie between 0 and 1 inclusive:\n",
    "X_scale"
   ]
  },
  {
   "cell_type": "code",
   "execution_count": 6,
   "id": "5f0ae66a",
   "metadata": {},
   "outputs": [],
   "source": [
    "from sklearn.model_selection import train_test_split\n",
    "X_train, X_val_and_test, Y_train, Y_val_and_test = train_test_split(X_scale, Y, test_size=0.3)"
   ]
  },
  {
   "cell_type": "code",
   "execution_count": 7,
   "id": "fcf8e659",
   "metadata": {},
   "outputs": [],
   "source": [
    "X_val, X_test, Y_val, Y_test = train_test_split(X_val_and_test, Y_val_and_test, test_size=0.5)"
   ]
  },
  {
   "cell_type": "code",
   "execution_count": 8,
   "id": "82763726",
   "metadata": {},
   "outputs": [
    {
     "name": "stdout",
     "output_type": "stream",
     "text": [
      "(1022, 10) (219, 10) (219, 10) (1022,) (219,) (219,)\n"
     ]
    }
   ],
   "source": [
    "## Finding dimension of sub-vectors and matric\n",
    "print(X_train.shape, X_val.shape, X_test.shape, Y_train.shape, Y_val.shape, Y_test.shape)\n"
   ]
  },
  {
   "cell_type": "code",
   "execution_count": 9,
   "id": "595c5ce2",
   "metadata": {},
   "outputs": [],
   "source": [
    "from keras.models import Sequential ## Import Sequential from Keras.model library to run ANN model\n",
    "from keras.layers import Dense ###Import Dense from Keras.layers  library\n",
    "##Learn more about Dense from this link \n",
    "###https://www.tutorialspoint.com/keras/keras_dense_layer.htm#:~:text=Dense%20layer%20is%20the%20regular,input%2C%20kernel)%20%2B%20bias)"
   ]
  },
  {
   "cell_type": "code",
   "execution_count": 10,
   "id": "c3265528",
   "metadata": {},
   "outputs": [],
   "source": [
    "##Constructing a sequential ANN model(specify that in our Keras sequential model like this:)\n",
    "model = Sequential([\n",
    "    Dense(16, activation='relu', input_shape=(10,)),  ###Hidden layer 1: 32 neurons, ReLU activation.\n",
    "    Dense(16, activation='relu'), ##Hidden layer 2: 32 neurons, ReLU activation\n",
    "    Dense(1, activation='sigmoid'),##Output Layer: 1 neuron, Sigmoid activation\n",
    "])"
   ]
  },
  {
   "cell_type": "code",
   "execution_count": 11,
   "id": "8ce6f774",
   "metadata": {},
   "outputs": [
    {
     "data": {
      "text/plain": [
       "(<keras.layers.core.dense.Dense at 0x2e79edab310>,)"
      ]
     },
     "execution_count": 11,
     "metadata": {},
     "output_type": "execute_result"
    }
   ],
   "source": [
    "## Adding Dense \n",
    "Dense(16, activation='relu', input_shape=(10,)),\n",
    "Dense(16, activation='relu'),\n",
    "Dense(1, activation='sigmoid'),"
   ]
  },
  {
   "cell_type": "code",
   "execution_count": 12,
   "id": "d92f43d7",
   "metadata": {},
   "outputs": [],
   "source": [
    "##Compile the model (Filling in the best numbers)\n",
    "model.compile(optimizer='sgd',  ##stochastic gradient descent (over here, it refers to mini-batch gradient descent)\n",
    "              loss='binary_crossentropy', ##The loss function for outputs that take the values 1 or 0 is called binary cross entropy.\n",
    "              metrics=['accuracy'])## track accuracy on top of the loss function\n",
    "##Find more about Gradient Descent and Batch Size on\n",
    "###  https://towardsdatascience.com/batch-mini-batch-stochastic-gradient-descent-7a62ecba642a"
   ]
  },
  {
   "cell_type": "code",
   "execution_count": 13,
   "id": "1db1f368",
   "metadata": {},
   "outputs": [],
   "source": [
    "optimizer='sgd'"
   ]
  },
  {
   "cell_type": "code",
   "execution_count": 14,
   "id": "0eddf7a4",
   "metadata": {},
   "outputs": [],
   "source": [
    "loss='binary_crossentropy' ###Cross-entropy loss, or log loss, measures the performance of a classification model whose output is a probability value between 0 and 1. "
   ]
  },
  {
   "cell_type": "code",
   "execution_count": 15,
   "id": "921dd0a2",
   "metadata": {},
   "outputs": [],
   "source": [
    "acc=['accuracy']"
   ]
  },
  {
   "cell_type": "code",
   "execution_count": 16,
   "id": "783a9af2",
   "metadata": {},
   "outputs": [
    {
     "name": "stdout",
     "output_type": "stream",
     "text": [
      "Epoch 1/100\n",
      "32/32 [==============================] - 1s 18ms/step - loss: 0.6990 - accuracy: 0.5088 - val_loss: 0.6963 - val_accuracy: 0.5205\n",
      "Epoch 2/100\n",
      "32/32 [==============================] - 0s 4ms/step - loss: 0.6927 - accuracy: 0.5802 - val_loss: 0.6896 - val_accuracy: 0.6210\n",
      "Epoch 3/100\n",
      "32/32 [==============================] - 0s 4ms/step - loss: 0.6879 - accuracy: 0.6057 - val_loss: 0.6844 - val_accuracy: 0.6438\n",
      "Epoch 4/100\n",
      "32/32 [==============================] - 0s 4ms/step - loss: 0.6836 - accuracy: 0.6820 - val_loss: 0.6797 - val_accuracy: 0.6895\n",
      "Epoch 5/100\n",
      "32/32 [==============================] - 0s 4ms/step - loss: 0.6796 - accuracy: 0.7153 - val_loss: 0.6753 - val_accuracy: 0.7123\n",
      "Epoch 6/100\n",
      "32/32 [==============================] - 0s 4ms/step - loss: 0.6758 - accuracy: 0.6644 - val_loss: 0.6713 - val_accuracy: 0.7534\n",
      "Epoch 7/100\n",
      "32/32 [==============================] - 0s 4ms/step - loss: 0.6720 - accuracy: 0.7290 - val_loss: 0.6671 - val_accuracy: 0.7717\n",
      "Epoch 8/100\n",
      "32/32 [==============================] - 0s 5ms/step - loss: 0.6683 - accuracy: 0.7290 - val_loss: 0.6632 - val_accuracy: 0.7854\n",
      "Epoch 9/100\n",
      "32/32 [==============================] - 0s 5ms/step - loss: 0.6647 - accuracy: 0.7603 - val_loss: 0.6592 - val_accuracy: 0.7854\n",
      "Epoch 10/100\n",
      "32/32 [==============================] - 0s 4ms/step - loss: 0.6609 - accuracy: 0.7642 - val_loss: 0.6552 - val_accuracy: 0.7808\n",
      "Epoch 11/100\n",
      "32/32 [==============================] - 0s 5ms/step - loss: 0.6574 - accuracy: 0.7750 - val_loss: 0.6510 - val_accuracy: 0.7854\n",
      "Epoch 12/100\n",
      "32/32 [==============================] - 0s 5ms/step - loss: 0.6534 - accuracy: 0.7818 - val_loss: 0.6466 - val_accuracy: 0.7854\n",
      "Epoch 13/100\n",
      "32/32 [==============================] - 0s 4ms/step - loss: 0.6496 - accuracy: 0.7710 - val_loss: 0.6422 - val_accuracy: 0.7854\n",
      "Epoch 14/100\n",
      "32/32 [==============================] - 0s 4ms/step - loss: 0.6453 - accuracy: 0.7622 - val_loss: 0.6378 - val_accuracy: 0.7945\n",
      "Epoch 15/100\n",
      "32/32 [==============================] - 0s 5ms/step - loss: 0.6410 - accuracy: 0.7926 - val_loss: 0.6328 - val_accuracy: 0.7945\n",
      "Epoch 16/100\n",
      "32/32 [==============================] - 0s 5ms/step - loss: 0.6363 - accuracy: 0.7916 - val_loss: 0.6277 - val_accuracy: 0.7945\n",
      "Epoch 17/100\n",
      "32/32 [==============================] - 0s 5ms/step - loss: 0.6315 - accuracy: 0.8033 - val_loss: 0.6222 - val_accuracy: 0.7991\n",
      "Epoch 18/100\n",
      "32/32 [==============================] - 0s 5ms/step - loss: 0.6263 - accuracy: 0.8131 - val_loss: 0.6164 - val_accuracy: 0.7991\n",
      "Epoch 19/100\n",
      "32/32 [==============================] - 0s 5ms/step - loss: 0.6209 - accuracy: 0.8004 - val_loss: 0.6107 - val_accuracy: 0.8219\n",
      "Epoch 20/100\n",
      "32/32 [==============================] - 0s 5ms/step - loss: 0.6153 - accuracy: 0.8063 - val_loss: 0.6047 - val_accuracy: 0.8356\n",
      "Epoch 21/100\n",
      "32/32 [==============================] - 0s 7ms/step - loss: 0.6093 - accuracy: 0.8121 - val_loss: 0.5982 - val_accuracy: 0.8356\n",
      "Epoch 22/100\n",
      "32/32 [==============================] - 0s 4ms/step - loss: 0.6030 - accuracy: 0.8190 - val_loss: 0.5914 - val_accuracy: 0.8311\n",
      "Epoch 23/100\n",
      "32/32 [==============================] - 0s 4ms/step - loss: 0.5965 - accuracy: 0.8151 - val_loss: 0.5844 - val_accuracy: 0.8402\n",
      "Epoch 24/100\n",
      "32/32 [==============================] - 0s 4ms/step - loss: 0.5898 - accuracy: 0.8249 - val_loss: 0.5769 - val_accuracy: 0.8402\n",
      "Epoch 25/100\n",
      "32/32 [==============================] - 0s 5ms/step - loss: 0.5827 - accuracy: 0.8288 - val_loss: 0.5690 - val_accuracy: 0.8447\n",
      "Epoch 26/100\n",
      "32/32 [==============================] - 0s 4ms/step - loss: 0.5752 - accuracy: 0.8288 - val_loss: 0.5608 - val_accuracy: 0.8447\n",
      "Epoch 27/100\n",
      "32/32 [==============================] - 0s 5ms/step - loss: 0.5672 - accuracy: 0.8297 - val_loss: 0.5523 - val_accuracy: 0.8447\n",
      "Epoch 28/100\n",
      "32/32 [==============================] - 0s 4ms/step - loss: 0.5588 - accuracy: 0.8346 - val_loss: 0.5430 - val_accuracy: 0.8447\n",
      "Epoch 29/100\n",
      "32/32 [==============================] - 0s 5ms/step - loss: 0.5504 - accuracy: 0.8327 - val_loss: 0.5340 - val_accuracy: 0.8447\n",
      "Epoch 30/100\n",
      "32/32 [==============================] - 0s 5ms/step - loss: 0.5419 - accuracy: 0.8346 - val_loss: 0.5249 - val_accuracy: 0.8493\n",
      "Epoch 31/100\n",
      "32/32 [==============================] - 0s 5ms/step - loss: 0.5330 - accuracy: 0.8405 - val_loss: 0.5153 - val_accuracy: 0.8447\n",
      "Epoch 32/100\n",
      "32/32 [==============================] - 0s 5ms/step - loss: 0.5246 - accuracy: 0.8386 - val_loss: 0.5065 - val_accuracy: 0.8676\n",
      "Epoch 33/100\n",
      "32/32 [==============================] - 0s 4ms/step - loss: 0.5158 - accuracy: 0.8425 - val_loss: 0.4971 - val_accuracy: 0.8676\n",
      "Epoch 34/100\n",
      "32/32 [==============================] - 0s 7ms/step - loss: 0.5070 - accuracy: 0.8444 - val_loss: 0.4883 - val_accuracy: 0.8721\n",
      "Epoch 35/100\n",
      "32/32 [==============================] - 0s 4ms/step - loss: 0.4985 - accuracy: 0.8493 - val_loss: 0.4788 - val_accuracy: 0.8721\n",
      "Epoch 36/100\n",
      "32/32 [==============================] - 0s 5ms/step - loss: 0.4902 - accuracy: 0.8464 - val_loss: 0.4698 - val_accuracy: 0.8721\n",
      "Epoch 37/100\n",
      "32/32 [==============================] - 0s 4ms/step - loss: 0.4815 - accuracy: 0.8493 - val_loss: 0.4606 - val_accuracy: 0.8721\n",
      "Epoch 38/100\n",
      "32/32 [==============================] - 0s 5ms/step - loss: 0.4734 - accuracy: 0.8464 - val_loss: 0.4524 - val_accuracy: 0.8858\n",
      "Epoch 39/100\n",
      "32/32 [==============================] - 0s 4ms/step - loss: 0.4651 - accuracy: 0.8523 - val_loss: 0.4448 - val_accuracy: 0.8813\n",
      "Epoch 40/100\n",
      "32/32 [==============================] - 0s 5ms/step - loss: 0.4575 - accuracy: 0.8523 - val_loss: 0.4359 - val_accuracy: 0.8813\n",
      "Epoch 41/100\n",
      "32/32 [==============================] - 0s 4ms/step - loss: 0.4494 - accuracy: 0.8523 - val_loss: 0.4284 - val_accuracy: 0.8858\n",
      "Epoch 42/100\n",
      "32/32 [==============================] - 0s 4ms/step - loss: 0.4418 - accuracy: 0.8562 - val_loss: 0.4191 - val_accuracy: 0.8904\n",
      "Epoch 43/100\n",
      "32/32 [==============================] - 0s 4ms/step - loss: 0.4344 - accuracy: 0.8562 - val_loss: 0.4121 - val_accuracy: 0.8858\n",
      "Epoch 44/100\n",
      "32/32 [==============================] - 0s 4ms/step - loss: 0.4274 - accuracy: 0.8611 - val_loss: 0.4034 - val_accuracy: 0.8904\n",
      "Epoch 45/100\n",
      "32/32 [==============================] - 0s 4ms/step - loss: 0.4205 - accuracy: 0.8581 - val_loss: 0.3962 - val_accuracy: 0.8904\n",
      "Epoch 46/100\n",
      "32/32 [==============================] - 0s 4ms/step - loss: 0.4145 - accuracy: 0.8571 - val_loss: 0.3921 - val_accuracy: 0.8950\n",
      "Epoch 47/100\n",
      "32/32 [==============================] - 0s 5ms/step - loss: 0.4078 - accuracy: 0.8611 - val_loss: 0.3845 - val_accuracy: 0.8950\n",
      "Epoch 48/100\n",
      "32/32 [==============================] - 0s 4ms/step - loss: 0.4020 - accuracy: 0.8611 - val_loss: 0.3794 - val_accuracy: 0.8950\n",
      "Epoch 49/100\n",
      "32/32 [==============================] - 0s 4ms/step - loss: 0.3963 - accuracy: 0.8679 - val_loss: 0.3724 - val_accuracy: 0.8995\n",
      "Epoch 50/100\n",
      "32/32 [==============================] - 0s 4ms/step - loss: 0.3909 - accuracy: 0.8650 - val_loss: 0.3678 - val_accuracy: 0.8950\n",
      "Epoch 51/100\n",
      "32/32 [==============================] - 0s 4ms/step - loss: 0.3860 - accuracy: 0.8611 - val_loss: 0.3604 - val_accuracy: 0.8995\n",
      "Epoch 52/100\n",
      "32/32 [==============================] - 0s 4ms/step - loss: 0.3813 - accuracy: 0.8611 - val_loss: 0.3567 - val_accuracy: 0.8995\n",
      "Epoch 53/100\n",
      "32/32 [==============================] - 0s 5ms/step - loss: 0.3767 - accuracy: 0.8640 - val_loss: 0.3526 - val_accuracy: 0.8950\n",
      "Epoch 54/100\n",
      "32/32 [==============================] - 0s 6ms/step - loss: 0.3723 - accuracy: 0.8640 - val_loss: 0.3457 - val_accuracy: 0.8995\n",
      "Epoch 55/100\n",
      "32/32 [==============================] - 0s 7ms/step - loss: 0.3683 - accuracy: 0.8630 - val_loss: 0.3437 - val_accuracy: 0.8950\n",
      "Epoch 56/100\n",
      "32/32 [==============================] - 0s 6ms/step - loss: 0.3645 - accuracy: 0.8679 - val_loss: 0.3375 - val_accuracy: 0.8995\n",
      "Epoch 57/100\n",
      "32/32 [==============================] - 0s 5ms/step - loss: 0.3609 - accuracy: 0.8689 - val_loss: 0.3338 - val_accuracy: 0.8950\n",
      "Epoch 58/100\n",
      "32/32 [==============================] - 0s 5ms/step - loss: 0.3581 - accuracy: 0.8650 - val_loss: 0.3313 - val_accuracy: 0.8950\n",
      "Epoch 59/100\n",
      "32/32 [==============================] - 0s 4ms/step - loss: 0.3548 - accuracy: 0.8699 - val_loss: 0.3277 - val_accuracy: 0.8904\n",
      "Epoch 60/100\n",
      "32/32 [==============================] - 0s 6ms/step - loss: 0.3518 - accuracy: 0.8708 - val_loss: 0.3230 - val_accuracy: 0.8950\n",
      "Epoch 61/100\n",
      "32/32 [==============================] - 0s 6ms/step - loss: 0.3490 - accuracy: 0.8679 - val_loss: 0.3195 - val_accuracy: 0.8995\n",
      "Epoch 62/100\n",
      "32/32 [==============================] - 0s 4ms/step - loss: 0.3463 - accuracy: 0.8669 - val_loss: 0.3185 - val_accuracy: 0.8904\n",
      "Epoch 63/100\n",
      "32/32 [==============================] - 0s 4ms/step - loss: 0.3441 - accuracy: 0.8699 - val_loss: 0.3166 - val_accuracy: 0.8950\n",
      "Epoch 64/100\n",
      "32/32 [==============================] - 0s 5ms/step - loss: 0.3411 - accuracy: 0.8699 - val_loss: 0.3106 - val_accuracy: 0.9041\n",
      "Epoch 65/100\n",
      "32/32 [==============================] - 0s 4ms/step - loss: 0.3385 - accuracy: 0.8679 - val_loss: 0.3121 - val_accuracy: 0.8950\n",
      "Epoch 66/100\n",
      "32/32 [==============================] - 0s 4ms/step - loss: 0.3374 - accuracy: 0.8718 - val_loss: 0.3081 - val_accuracy: 0.8950\n",
      "Epoch 67/100\n",
      "32/32 [==============================] - 0s 5ms/step - loss: 0.3355 - accuracy: 0.8699 - val_loss: 0.3060 - val_accuracy: 0.8950\n",
      "Epoch 68/100\n",
      "32/32 [==============================] - 0s 4ms/step - loss: 0.3335 - accuracy: 0.8708 - val_loss: 0.3037 - val_accuracy: 0.8950\n",
      "Epoch 69/100\n",
      "32/32 [==============================] - 0s 4ms/step - loss: 0.3315 - accuracy: 0.8718 - val_loss: 0.3008 - val_accuracy: 0.8950\n",
      "Epoch 70/100\n",
      "32/32 [==============================] - 0s 4ms/step - loss: 0.3302 - accuracy: 0.8728 - val_loss: 0.2976 - val_accuracy: 0.8995\n",
      "Epoch 71/100\n",
      "32/32 [==============================] - 0s 4ms/step - loss: 0.3288 - accuracy: 0.8699 - val_loss: 0.2970 - val_accuracy: 0.8950\n",
      "Epoch 72/100\n",
      "32/32 [==============================] - 0s 4ms/step - loss: 0.3271 - accuracy: 0.8699 - val_loss: 0.2964 - val_accuracy: 0.8950\n",
      "Epoch 73/100\n",
      "32/32 [==============================] - 0s 4ms/step - loss: 0.3254 - accuracy: 0.8757 - val_loss: 0.2922 - val_accuracy: 0.9041\n",
      "Epoch 74/100\n",
      "32/32 [==============================] - 0s 4ms/step - loss: 0.3243 - accuracy: 0.8699 - val_loss: 0.2934 - val_accuracy: 0.8904\n",
      "Epoch 75/100\n",
      "32/32 [==============================] - 0s 4ms/step - loss: 0.3226 - accuracy: 0.8748 - val_loss: 0.2892 - val_accuracy: 0.9041\n",
      "Epoch 76/100\n",
      "32/32 [==============================] - 0s 4ms/step - loss: 0.3212 - accuracy: 0.8708 - val_loss: 0.2873 - val_accuracy: 0.9041\n",
      "Epoch 77/100\n",
      "32/32 [==============================] - 0s 5ms/step - loss: 0.3207 - accuracy: 0.8728 - val_loss: 0.2885 - val_accuracy: 0.8904\n",
      "Epoch 78/100\n",
      "32/32 [==============================] - 0s 4ms/step - loss: 0.3191 - accuracy: 0.8748 - val_loss: 0.2847 - val_accuracy: 0.9041\n",
      "Epoch 79/100\n",
      "32/32 [==============================] - 0s 4ms/step - loss: 0.3187 - accuracy: 0.8728 - val_loss: 0.2850 - val_accuracy: 0.8995\n",
      "Epoch 80/100\n",
      "32/32 [==============================] - 0s 5ms/step - loss: 0.3175 - accuracy: 0.8787 - val_loss: 0.2838 - val_accuracy: 0.8950\n",
      "Epoch 81/100\n",
      "32/32 [==============================] - 0s 4ms/step - loss: 0.3165 - accuracy: 0.8748 - val_loss: 0.2828 - val_accuracy: 0.8904\n",
      "Epoch 82/100\n",
      "32/32 [==============================] - 0s 4ms/step - loss: 0.3148 - accuracy: 0.8767 - val_loss: 0.2792 - val_accuracy: 0.9041\n",
      "Epoch 83/100\n",
      "32/32 [==============================] - 0s 4ms/step - loss: 0.3135 - accuracy: 0.8757 - val_loss: 0.2867 - val_accuracy: 0.8858\n",
      "Epoch 84/100\n",
      "32/32 [==============================] - 0s 4ms/step - loss: 0.3138 - accuracy: 0.8728 - val_loss: 0.2792 - val_accuracy: 0.8904\n",
      "Epoch 85/100\n",
      "32/32 [==============================] - 0s 6ms/step - loss: 0.3131 - accuracy: 0.8757 - val_loss: 0.2769 - val_accuracy: 0.8995\n",
      "Epoch 86/100\n",
      "32/32 [==============================] - 0s 5ms/step - loss: 0.3117 - accuracy: 0.8748 - val_loss: 0.2754 - val_accuracy: 0.8995\n",
      "Epoch 87/100\n",
      "32/32 [==============================] - 0s 5ms/step - loss: 0.3112 - accuracy: 0.8738 - val_loss: 0.2769 - val_accuracy: 0.8904\n",
      "Epoch 88/100\n",
      "32/32 [==============================] - 0s 4ms/step - loss: 0.3099 - accuracy: 0.8748 - val_loss: 0.2736 - val_accuracy: 0.8995\n",
      "Epoch 89/100\n",
      "32/32 [==============================] - 0s 4ms/step - loss: 0.3090 - accuracy: 0.8718 - val_loss: 0.2775 - val_accuracy: 0.8904\n",
      "Epoch 90/100\n",
      "32/32 [==============================] - 0s 6ms/step - loss: 0.3094 - accuracy: 0.8738 - val_loss: 0.2742 - val_accuracy: 0.8904\n",
      "Epoch 91/100\n",
      "32/32 [==============================] - 0s 5ms/step - loss: 0.3084 - accuracy: 0.8757 - val_loss: 0.2707 - val_accuracy: 0.8995\n",
      "Epoch 92/100\n",
      "32/32 [==============================] - 0s 5ms/step - loss: 0.3068 - accuracy: 0.8718 - val_loss: 0.2768 - val_accuracy: 0.8904\n",
      "Epoch 93/100\n",
      "32/32 [==============================] - 0s 4ms/step - loss: 0.3070 - accuracy: 0.8728 - val_loss: 0.2721 - val_accuracy: 0.8904\n",
      "Epoch 94/100\n",
      "32/32 [==============================] - 0s 4ms/step - loss: 0.3064 - accuracy: 0.8748 - val_loss: 0.2688 - val_accuracy: 0.8904\n",
      "Epoch 95/100\n",
      "32/32 [==============================] - 0s 4ms/step - loss: 0.3050 - accuracy: 0.8777 - val_loss: 0.2683 - val_accuracy: 0.8904\n",
      "Epoch 96/100\n",
      "32/32 [==============================] - 0s 4ms/step - loss: 0.3047 - accuracy: 0.8748 - val_loss: 0.2670 - val_accuracy: 0.8904\n",
      "Epoch 97/100\n",
      "32/32 [==============================] - 0s 4ms/step - loss: 0.3040 - accuracy: 0.8748 - val_loss: 0.2667 - val_accuracy: 0.8904\n",
      "Epoch 98/100\n",
      "32/32 [==============================] - 0s 4ms/step - loss: 0.3033 - accuracy: 0.8757 - val_loss: 0.2670 - val_accuracy: 0.8904\n",
      "Epoch 99/100\n",
      "32/32 [==============================] - 0s 5ms/step - loss: 0.3028 - accuracy: 0.8757 - val_loss: 0.2657 - val_accuracy: 0.8904\n",
      "Epoch 100/100\n",
      "32/32 [==============================] - 0s 4ms/step - loss: 0.3026 - accuracy: 0.8767 - val_loss: 0.2651 - val_accuracy: 0.8904\n"
     ]
    }
   ],
   "source": [
    "##This function will output a history, which we save under the variable hist. \n",
    "hist = model.fit(X_train, Y_train,\n",
    "          batch_size=32, epochs=100,  ##the size of our mini-batch   ## epochs: how long we want to train it for \n",
    "          validation_data=(X_val, Y_val))\n",
    "##specify what our validation data is so that the model will tell us how we are doing on the validation data at each point"
   ]
  },
  {
   "cell_type": "code",
   "execution_count": 17,
   "id": "58887ef2",
   "metadata": {},
   "outputs": [
    {
     "name": "stdout",
     "output_type": "stream",
     "text": [
      "7/7 [==============================] - 0s 3ms/step - loss: 0.2299 - accuracy: 0.9315\n"
     ]
    },
    {
     "data": {
      "text/plain": [
       "0.931506872177124"
      ]
     },
     "execution_count": 17,
     "metadata": {},
     "output_type": "execute_result"
    }
   ],
   "source": [
    "## the accuracy on our test set\n",
    "model.evaluate(X_test, Y_test)[1] "
   ]
  },
  {
   "cell_type": "code",
   "execution_count": 18,
   "id": "ea4ed59f",
   "metadata": {},
   "outputs": [],
   "source": [
    "import matplotlib.pyplot as plt"
   ]
  },
  {
   "cell_type": "code",
   "execution_count": 19,
   "id": "1698f7e9",
   "metadata": {},
   "outputs": [
    {
     "data": {
      "image/png": "[encoded data removed]",
      "text/plain": [
       "<Figure size 432x288 with 1 Axes>"
      ]
     },
     "metadata": {
      "needs_background": "light"
     },
     "output_type": "display_data"
    }
   ],
   "source": [
    "plt.plot(hist.history['loss'])\n",
    "plt.plot(hist.history['val_loss'])\n",
    "plt.title('Model loss')\n",
    "plt.ylabel('Loss')\n",
    "plt.xlabel('Epoch')\n",
    "plt.legend(['Train', 'Val'], loc='upper right')\n",
    "plt.show()"
   ]
  },
  {
   "cell_type": "code",
   "execution_count": 20,
   "id": "29378690",
   "metadata": {},
   "outputs": [
    {
     "data": {
      "image/png": "[encoded data removed]",
      "text/plain": [
       "<Figure size 432x288 with 1 Axes>"
      ]
     },
     "metadata": {
      "needs_background": "light"
     },
     "output_type": "display_data"
    }
   ],
   "source": [
    "plt.plot(hist.history['accuracy'])\n",
    "plt.plot(hist.history['val_accuracy'])\n",
    "plt.title('Model accuracy')\n",
    "plt.ylabel('Accuracy')\n",
    "plt.xlabel('Epoch')\n",
    "plt.legend(['Train', 'Val'], loc='lower right')\n",
    "plt.show()"
   ]
  },
  {
   "cell_type": "code",
   "execution_count": 21,
   "id": "9865df4f",
   "metadata": {},
   "outputs": [
    {
     "name": "stdout",
     "output_type": "stream",
     "text": [
      "Epoch 1/100\n",
      "32/32 [==============================] - 3s 44ms/step - loss: 0.4700 - accuracy: 0.7769 - val_loss: 0.3652 - val_accuracy: 0.8721\n",
      "Epoch 2/100\n",
      "32/32 [==============================] - 1s 38ms/step - loss: 0.3797 - accuracy: 0.8483 - val_loss: 0.3186 - val_accuracy: 0.8858\n",
      "Epoch 3/100\n",
      "32/32 [==============================] - 1s 31ms/step - loss: 0.3216 - accuracy: 0.8718 - val_loss: 0.2705 - val_accuracy: 0.8767\n",
      "Epoch 4/100\n",
      "32/32 [==============================] - 1s 42ms/step - loss: 0.2953 - accuracy: 0.8767 - val_loss: 0.2723 - val_accuracy: 0.9087\n",
      "Epoch 5/100\n",
      "32/32 [==============================] - 1s 39ms/step - loss: 0.3083 - accuracy: 0.8777 - val_loss: 0.2488 - val_accuracy: 0.8950\n",
      "Epoch 6/100\n",
      "32/32 [==============================] - 1s 31ms/step - loss: 0.2752 - accuracy: 0.8796 - val_loss: 0.2453 - val_accuracy: 0.8858\n",
      "Epoch 7/100\n",
      "32/32 [==============================] - 1s 32ms/step - loss: 0.2816 - accuracy: 0.8855 - val_loss: 0.2783 - val_accuracy: 0.8813\n",
      "Epoch 8/100\n",
      "32/32 [==============================] - 1s 30ms/step - loss: 0.2918 - accuracy: 0.8777 - val_loss: 0.2606 - val_accuracy: 0.9087\n",
      "Epoch 9/100\n",
      "32/32 [==============================] - 1s 29ms/step - loss: 0.2772 - accuracy: 0.8855 - val_loss: 0.2530 - val_accuracy: 0.8950\n",
      "Epoch 10/100\n",
      "32/32 [==============================] - 1s 28ms/step - loss: 0.2628 - accuracy: 0.8973 - val_loss: 0.2531 - val_accuracy: 0.8858\n",
      "Epoch 11/100\n",
      "32/32 [==============================] - 1s 27ms/step - loss: 0.2541 - accuracy: 0.8963 - val_loss: 0.2209 - val_accuracy: 0.8995\n",
      "Epoch 12/100\n",
      "32/32 [==============================] - 1s 28ms/step - loss: 0.2490 - accuracy: 0.8953 - val_loss: 0.2415 - val_accuracy: 0.8950\n",
      "Epoch 13/100\n",
      "32/32 [==============================] - 1s 30ms/step - loss: 0.2346 - accuracy: 0.9022 - val_loss: 0.2129 - val_accuracy: 0.9041\n",
      "Epoch 14/100\n",
      "32/32 [==============================] - 1s 32ms/step - loss: 0.2406 - accuracy: 0.9061 - val_loss: 0.3156 - val_accuracy: 0.8402\n",
      "Epoch 15/100\n",
      "32/32 [==============================] - 1s 31ms/step - loss: 0.2418 - accuracy: 0.9110 - val_loss: 0.2074 - val_accuracy: 0.9041\n",
      "Epoch 16/100\n",
      "32/32 [==============================] - 1s 31ms/step - loss: 0.2187 - accuracy: 0.9168 - val_loss: 0.2187 - val_accuracy: 0.8904\n",
      "Epoch 17/100\n",
      "32/32 [==============================] - 1s 31ms/step - loss: 0.2271 - accuracy: 0.9061 - val_loss: 0.2073 - val_accuracy: 0.9087\n",
      "Epoch 18/100\n",
      "32/32 [==============================] - 1s 33ms/step - loss: 0.2292 - accuracy: 0.9119 - val_loss: 0.2094 - val_accuracy: 0.9041\n",
      "Epoch 19/100\n",
      "32/32 [==============================] - 1s 36ms/step - loss: 0.2130 - accuracy: 0.9110 - val_loss: 0.2012 - val_accuracy: 0.9132\n",
      "Epoch 20/100\n",
      "32/32 [==============================] - 1s 34ms/step - loss: 0.2298 - accuracy: 0.9041 - val_loss: 0.2100 - val_accuracy: 0.8950\n",
      "Epoch 21/100\n",
      "32/32 [==============================] - 1s 30ms/step - loss: 0.2078 - accuracy: 0.9149 - val_loss: 0.2750 - val_accuracy: 0.8950\n",
      "Epoch 22/100\n",
      "32/32 [==============================] - 1s 27ms/step - loss: 0.2291 - accuracy: 0.9110 - val_loss: 0.2043 - val_accuracy: 0.8950\n",
      "Epoch 23/100\n",
      "32/32 [==============================] - 1s 27ms/step - loss: 0.2084 - accuracy: 0.9168 - val_loss: 0.2379 - val_accuracy: 0.9087\n",
      "Epoch 24/100\n",
      "32/32 [==============================] - 1s 27ms/step - loss: 0.2292 - accuracy: 0.9022 - val_loss: 0.2095 - val_accuracy: 0.9087\n",
      "Epoch 25/100\n",
      "32/32 [==============================] - 1s 27ms/step - loss: 0.1952 - accuracy: 0.9237 - val_loss: 0.2187 - val_accuracy: 0.9087\n",
      "Epoch 26/100\n",
      "32/32 [==============================] - 1s 27ms/step - loss: 0.1948 - accuracy: 0.9256 - val_loss: 0.2217 - val_accuracy: 0.8995\n",
      "Epoch 27/100\n",
      "32/32 [==============================] - 1s 28ms/step - loss: 0.2039 - accuracy: 0.9237 - val_loss: 0.1947 - val_accuracy: 0.9178\n",
      "Epoch 28/100\n",
      "32/32 [==============================] - 1s 28ms/step - loss: 0.2083 - accuracy: 0.9198 - val_loss: 0.1991 - val_accuracy: 0.9041\n",
      "Epoch 29/100\n",
      "32/32 [==============================] - 1s 30ms/step - loss: 0.1930 - accuracy: 0.9295 - val_loss: 0.2340 - val_accuracy: 0.8995\n",
      "Epoch 30/100\n",
      "32/32 [==============================] - 1s 34ms/step - loss: 0.1923 - accuracy: 0.9198 - val_loss: 0.2156 - val_accuracy: 0.8995\n",
      "Epoch 31/100\n",
      "32/32 [==============================] - 1s 33ms/step - loss: 0.1918 - accuracy: 0.9247 - val_loss: 0.2354 - val_accuracy: 0.8858\n",
      "Epoch 32/100\n",
      "32/32 [==============================] - 1s 35ms/step - loss: 0.1861 - accuracy: 0.9286 - val_loss: 0.2308 - val_accuracy: 0.9087\n",
      "Epoch 33/100\n",
      "32/32 [==============================] - 1s 39ms/step - loss: 0.1907 - accuracy: 0.9237 - val_loss: 0.2207 - val_accuracy: 0.9087\n",
      "Epoch 34/100\n",
      "32/32 [==============================] - 1s 34ms/step - loss: 0.1913 - accuracy: 0.9207 - val_loss: 0.2245 - val_accuracy: 0.9041\n",
      "Epoch 35/100\n",
      "32/32 [==============================] - 1s 35ms/step - loss: 0.1913 - accuracy: 0.9256 - val_loss: 0.2035 - val_accuracy: 0.9041\n",
      "Epoch 36/100\n",
      "32/32 [==============================] - 1s 35ms/step - loss: 0.2012 - accuracy: 0.9159 - val_loss: 0.2001 - val_accuracy: 0.9087\n",
      "Epoch 37/100\n",
      "32/32 [==============================] - 1s 33ms/step - loss: 0.1860 - accuracy: 0.9276 - val_loss: 0.2025 - val_accuracy: 0.9269\n",
      "Epoch 38/100\n",
      "32/32 [==============================] - 1s 31ms/step - loss: 0.1892 - accuracy: 0.9286 - val_loss: 0.1909 - val_accuracy: 0.9087\n",
      "Epoch 39/100\n",
      "32/32 [==============================] - 1s 33ms/step - loss: 0.2020 - accuracy: 0.9178 - val_loss: 0.2488 - val_accuracy: 0.8950\n",
      "Epoch 40/100\n",
      "32/32 [==============================] - 1s 34ms/step - loss: 0.1943 - accuracy: 0.9217 - val_loss: 0.2483 - val_accuracy: 0.9041\n",
      "Epoch 41/100\n",
      "32/32 [==============================] - 1s 30ms/step - loss: 0.1845 - accuracy: 0.9295 - val_loss: 0.2286 - val_accuracy: 0.9087\n",
      "Epoch 42/100\n",
      "32/32 [==============================] - 1s 31ms/step - loss: 0.1697 - accuracy: 0.9325 - val_loss: 0.2161 - val_accuracy: 0.9224\n",
      "Epoch 43/100\n",
      "32/32 [==============================] - 1s 33ms/step - loss: 0.1915 - accuracy: 0.9266 - val_loss: 0.2369 - val_accuracy: 0.8950\n",
      "Epoch 44/100\n",
      "32/32 [==============================] - 1s 34ms/step - loss: 0.1668 - accuracy: 0.9364 - val_loss: 0.2015 - val_accuracy: 0.8995\n",
      "Epoch 45/100\n",
      "32/32 [==============================] - 2s 54ms/step - loss: 0.1741 - accuracy: 0.9344 - val_loss: 0.2175 - val_accuracy: 0.9132\n",
      "Epoch 46/100\n",
      "32/32 [==============================] - 1s 40ms/step - loss: 0.1842 - accuracy: 0.9198 - val_loss: 0.2207 - val_accuracy: 0.9041\n",
      "Epoch 47/100\n",
      "32/32 [==============================] - 1s 43ms/step - loss: 0.1791 - accuracy: 0.9305 - val_loss: 0.2050 - val_accuracy: 0.9178\n",
      "Epoch 48/100\n",
      "32/32 [==============================] - 1s 38ms/step - loss: 0.1631 - accuracy: 0.9374 - val_loss: 0.2423 - val_accuracy: 0.8995\n",
      "Epoch 49/100\n",
      "32/32 [==============================] - 1s 38ms/step - loss: 0.1586 - accuracy: 0.9374 - val_loss: 0.2485 - val_accuracy: 0.9132\n",
      "Epoch 50/100\n",
      "32/32 [==============================] - 1s 34ms/step - loss: 0.1821 - accuracy: 0.9315 - val_loss: 0.2743 - val_accuracy: 0.9041\n",
      "Epoch 51/100\n",
      "32/32 [==============================] - 1s 30ms/step - loss: 0.1866 - accuracy: 0.9217 - val_loss: 0.2796 - val_accuracy: 0.8904\n",
      "Epoch 52/100\n",
      "32/32 [==============================] - 1s 24ms/step - loss: 0.1749 - accuracy: 0.9295 - val_loss: 0.2185 - val_accuracy: 0.9132\n",
      "Epoch 53/100\n",
      "32/32 [==============================] - 1s 26ms/step - loss: 0.1988 - accuracy: 0.9247 - val_loss: 0.2724 - val_accuracy: 0.8813\n",
      "Epoch 54/100\n",
      "32/32 [==============================] - 1s 25ms/step - loss: 0.1704 - accuracy: 0.9335 - val_loss: 0.2714 - val_accuracy: 0.8950\n",
      "Epoch 55/100\n",
      "32/32 [==============================] - 1s 27ms/step - loss: 0.1699 - accuracy: 0.9305 - val_loss: 0.2125 - val_accuracy: 0.9132\n",
      "Epoch 56/100\n",
      "32/32 [==============================] - 1s 27ms/step - loss: 0.1516 - accuracy: 0.9442 - val_loss: 0.2162 - val_accuracy: 0.9041\n",
      "Epoch 57/100\n",
      "32/32 [==============================] - 1s 26ms/step - loss: 0.1556 - accuracy: 0.9432 - val_loss: 0.1998 - val_accuracy: 0.9224\n",
      "Epoch 58/100\n",
      "32/32 [==============================] - 1s 29ms/step - loss: 0.1627 - accuracy: 0.9364 - val_loss: 0.2370 - val_accuracy: 0.9041\n",
      "Epoch 59/100\n",
      "32/32 [==============================] - 1s 27ms/step - loss: 0.1744 - accuracy: 0.9335 - val_loss: 0.2162 - val_accuracy: 0.9087\n",
      "Epoch 60/100\n",
      "32/32 [==============================] - 1s 28ms/step - loss: 0.1682 - accuracy: 0.9344 - val_loss: 0.2065 - val_accuracy: 0.9178\n",
      "Epoch 61/100\n",
      "32/32 [==============================] - 1s 30ms/step - loss: 0.1593 - accuracy: 0.9364 - val_loss: 0.1935 - val_accuracy: 0.9224\n",
      "Epoch 62/100\n",
      "32/32 [==============================] - 1s 32ms/step - loss: 0.1746 - accuracy: 0.9344 - val_loss: 0.2048 - val_accuracy: 0.9041\n",
      "Epoch 63/100\n",
      "32/32 [==============================] - 1s 27ms/step - loss: 0.2111 - accuracy: 0.9149 - val_loss: 0.2554 - val_accuracy: 0.9087\n",
      "Epoch 64/100\n",
      "32/32 [==============================] - 1s 26ms/step - loss: 0.2106 - accuracy: 0.9139 - val_loss: 0.2348 - val_accuracy: 0.9087\n",
      "Epoch 65/100\n",
      "32/32 [==============================] - 1s 27ms/step - loss: 0.1699 - accuracy: 0.9295 - val_loss: 0.2026 - val_accuracy: 0.8995\n",
      "Epoch 66/100\n",
      "32/32 [==============================] - 1s 26ms/step - loss: 0.1558 - accuracy: 0.9315 - val_loss: 0.2283 - val_accuracy: 0.9224\n",
      "Epoch 67/100\n",
      "32/32 [==============================] - 1s 27ms/step - loss: 0.1524 - accuracy: 0.9403 - val_loss: 0.2441 - val_accuracy: 0.9087\n",
      "Epoch 68/100\n",
      "32/32 [==============================] - 1s 25ms/step - loss: 0.1657 - accuracy: 0.9344 - val_loss: 0.2329 - val_accuracy: 0.9178\n",
      "Epoch 69/100\n",
      "32/32 [==============================] - 1s 24ms/step - loss: 0.1523 - accuracy: 0.9364 - val_loss: 0.2469 - val_accuracy: 0.9041\n",
      "Epoch 70/100\n",
      "32/32 [==============================] - 1s 24ms/step - loss: 0.1466 - accuracy: 0.9413 - val_loss: 0.2402 - val_accuracy: 0.9087\n",
      "Epoch 71/100\n",
      "32/32 [==============================] - 1s 24ms/step - loss: 0.1414 - accuracy: 0.9442 - val_loss: 0.2362 - val_accuracy: 0.9041\n",
      "Epoch 72/100\n",
      "32/32 [==============================] - 1s 23ms/step - loss: 0.1408 - accuracy: 0.9344 - val_loss: 0.2620 - val_accuracy: 0.9224\n",
      "Epoch 73/100\n",
      "32/32 [==============================] - 1s 23ms/step - loss: 0.1460 - accuracy: 0.9393 - val_loss: 0.3277 - val_accuracy: 0.8904\n",
      "Epoch 74/100\n",
      "32/32 [==============================] - 1s 28ms/step - loss: 0.1704 - accuracy: 0.9384 - val_loss: 0.2512 - val_accuracy: 0.9041\n",
      "Epoch 75/100\n",
      "32/32 [==============================] - 1s 23ms/step - loss: 0.1372 - accuracy: 0.9521 - val_loss: 0.2979 - val_accuracy: 0.8995\n",
      "Epoch 76/100\n",
      "32/32 [==============================] - 1s 23ms/step - loss: 0.1277 - accuracy: 0.9491 - val_loss: 0.2371 - val_accuracy: 0.9178\n",
      "Epoch 77/100\n",
      "32/32 [==============================] - 1s 24ms/step - loss: 0.1323 - accuracy: 0.9462 - val_loss: 0.2608 - val_accuracy: 0.8995\n",
      "Epoch 78/100\n",
      "32/32 [==============================] - 1s 25ms/step - loss: 0.1296 - accuracy: 0.9472 - val_loss: 0.2907 - val_accuracy: 0.8950\n",
      "Epoch 79/100\n",
      "32/32 [==============================] - 1s 25ms/step - loss: 0.1337 - accuracy: 0.9472 - val_loss: 0.2677 - val_accuracy: 0.9132\n",
      "Epoch 80/100\n",
      "32/32 [==============================] - 1s 27ms/step - loss: 0.1229 - accuracy: 0.9521 - val_loss: 0.2451 - val_accuracy: 0.9087\n",
      "Epoch 81/100\n",
      "32/32 [==============================] - 1s 26ms/step - loss: 0.1316 - accuracy: 0.9452 - val_loss: 0.2990 - val_accuracy: 0.9041\n",
      "Epoch 82/100\n",
      "32/32 [==============================] - 1s 26ms/step - loss: 0.1288 - accuracy: 0.9472 - val_loss: 0.2614 - val_accuracy: 0.9087\n",
      "Epoch 83/100\n",
      "32/32 [==============================] - 1s 27ms/step - loss: 0.1336 - accuracy: 0.9442 - val_loss: 0.2552 - val_accuracy: 0.9041\n",
      "Epoch 84/100\n",
      "32/32 [==============================] - 1s 32ms/step - loss: 0.1559 - accuracy: 0.9305 - val_loss: 0.2844 - val_accuracy: 0.9132\n",
      "Epoch 85/100\n",
      "32/32 [==============================] - 1s 26ms/step - loss: 0.1217 - accuracy: 0.9521 - val_loss: 0.2869 - val_accuracy: 0.8995\n",
      "Epoch 86/100\n",
      "32/32 [==============================] - 1s 30ms/step - loss: 0.1310 - accuracy: 0.9423 - val_loss: 0.2798 - val_accuracy: 0.8995\n",
      "Epoch 87/100\n",
      "32/32 [==============================] - 1s 27ms/step - loss: 0.1289 - accuracy: 0.9560 - val_loss: 0.2569 - val_accuracy: 0.9132\n",
      "Epoch 88/100\n",
      "32/32 [==============================] - 1s 28ms/step - loss: 0.1309 - accuracy: 0.9481 - val_loss: 0.3041 - val_accuracy: 0.9087\n",
      "Epoch 89/100\n",
      "32/32 [==============================] - 1s 24ms/step - loss: 0.1103 - accuracy: 0.9609 - val_loss: 0.2618 - val_accuracy: 0.9132\n",
      "Epoch 90/100\n",
      "32/32 [==============================] - 1s 26ms/step - loss: 0.1455 - accuracy: 0.9413 - val_loss: 0.2917 - val_accuracy: 0.9041\n",
      "Epoch 91/100\n",
      "32/32 [==============================] - 1s 30ms/step - loss: 0.1306 - accuracy: 0.9501 - val_loss: 0.2919 - val_accuracy: 0.9224\n",
      "Epoch 92/100\n",
      "32/32 [==============================] - 1s 27ms/step - loss: 0.1354 - accuracy: 0.9452 - val_loss: 0.2531 - val_accuracy: 0.9041\n",
      "Epoch 93/100\n",
      "32/32 [==============================] - 1s 24ms/step - loss: 0.1155 - accuracy: 0.9491 - val_loss: 0.2900 - val_accuracy: 0.8950\n",
      "Epoch 94/100\n",
      "32/32 [==============================] - 1s 27ms/step - loss: 0.1050 - accuracy: 0.9599 - val_loss: 0.2846 - val_accuracy: 0.8995\n",
      "Epoch 95/100\n",
      "32/32 [==============================] - 1s 25ms/step - loss: 0.1050 - accuracy: 0.9560 - val_loss: 0.2516 - val_accuracy: 0.9087\n",
      "Epoch 96/100\n",
      "32/32 [==============================] - 1s 24ms/step - loss: 0.1216 - accuracy: 0.9472 - val_loss: 0.3001 - val_accuracy: 0.8904\n",
      "Epoch 97/100\n",
      "32/32 [==============================] - 1s 23ms/step - loss: 0.1521 - accuracy: 0.9432 - val_loss: 0.2198 - val_accuracy: 0.9224\n",
      "Epoch 98/100\n",
      "32/32 [==============================] - 1s 27ms/step - loss: 0.1051 - accuracy: 0.9589 - val_loss: 0.3853 - val_accuracy: 0.8904\n",
      "Epoch 99/100\n",
      "32/32 [==============================] - 1s 27ms/step - loss: 0.1305 - accuracy: 0.9511 - val_loss: 0.3412 - val_accuracy: 0.8950\n",
      "Epoch 100/100\n",
      "32/32 [==============================] - 1s 26ms/step - loss: 0.1290 - accuracy: 0.9501 - val_loss: 0.3386 - val_accuracy: 0.8995\n"
     ]
    }
   ],
   "source": [
    "##Over fitted ANN Model with complex Architechture\n",
    "model_2 = Sequential([\n",
    "    Dense(1000, activation='relu', input_shape=(10,)),\n",
    "    Dense(1000, activation='relu'),\n",
    "    Dense(1000, activation='relu'),\n",
    "    Dense(1000, activation='relu'),\n",
    "    Dense(1, activation='sigmoid'),\n",
    "])\n",
    "\n",
    "model_2.compile(optimizer='adam',\n",
    "              loss='binary_crossentropy',\n",
    "              metrics=['accuracy'])\n",
    "              \n",
    "hist_2 = model_2.fit(X_train, Y_train,\n",
    "          batch_size=32, epochs=100,\n",
    "          validation_data=(X_val, Y_val))"
   ]
  },
  {
   "cell_type": "code",
   "execution_count": 22,
   "id": "4c3b3dad",
   "metadata": {},
   "outputs": [
    {
     "data": {
      "image/png": "[encoded data removed]",
      "text/plain": [
       "<Figure size 432x288 with 1 Axes>"
      ]
     },
     "metadata": {
      "needs_background": "light"
     },
     "output_type": "display_data"
    }
   ],
   "source": [
    "plt.plot(hist_2.history['loss'])\n",
    "plt.plot(hist_2.history['val_loss'])\n",
    "plt.title('Model loss')\n",
    "plt.ylabel('Loss')\n",
    "plt.xlabel('Epoch')\n",
    "plt.legend(['Train', 'Val'], loc='upper right')\n",
    "plt.show()"
   ]
  },
  {
   "cell_type": "code",
   "execution_count": 32,
   "id": "a32a4376",
   "metadata": {},
   "outputs": [
    {
     "data": {
      "image/png": "[encoded data removed]",
      "text/plain": [
       "<Figure size 432x288 with 1 Axes>"
      ]
     },
     "metadata": {
      "needs_background": "light"
     },
     "output_type": "display_data"
    }
   ],
   "source": [
    "plt.plot(hist_2.history['accuracy'])\n",
    "plt.plot(hist_2.history['val_accuracy'])\n",
    "plt.title('Model accuracy')\n",
    "plt.ylabel('Accuracy')\n",
    "plt.xlabel('Epoch')\n",
    "plt.legend(['Train', 'Val'], loc='lower right')\n",
    "plt.show()"
   ]
  },
  {
   "cell_type": "code",
   "execution_count": 23,
   "id": "809d1795",
   "metadata": {},
   "outputs": [],
   "source": [
    "from keras.layers import Dropout\n",
    "from keras import regularizers"
   ]
  },
  {
   "cell_type": "code",
   "execution_count": 24,
   "id": "b31ef0f3",
   "metadata": {},
   "outputs": [],
   "source": [
    "model_3 = Sequential([\n",
    "    Dense(1000, activation='relu', kernel_regularizer=regularizers.l2(0.01), input_shape=(10,)),\n",
    "    Dropout(0.3),\n",
    "    Dense(1000, activation='relu', kernel_regularizer=regularizers.l2(0.01)),\n",
    "    Dropout(0.3),\n",
    "    Dense(1000, activation='relu', kernel_regularizer=regularizers.l2(0.01)),\n",
    "    Dropout(0.3),\n",
    "    Dense(1000, activation='relu', kernel_regularizer=regularizers.l2(0.01)),\n",
    "    Dropout(0.3),\n",
    "    Dense(1, activation='sigmoid', kernel_regularizer=regularizers.l2(0.01)),\n",
    "])"
   ]
  },
  {
   "cell_type": "code",
   "execution_count": 25,
   "id": "c3282722",
   "metadata": {},
   "outputs": [
    {
     "name": "stdout",
     "output_type": "stream",
     "text": [
      "Epoch 1/100\n",
      "32/32 [==============================] - 3s 57ms/step - loss: 14.2353 - accuracy: 0.6331 - val_loss: 3.9126 - val_accuracy: 0.6986\n",
      "Epoch 2/100\n",
      "32/32 [==============================] - 2s 47ms/step - loss: 1.6911 - accuracy: 0.7955 - val_loss: 0.6160 - val_accuracy: 0.9041\n",
      "Epoch 3/100\n",
      "32/32 [==============================] - 2s 60ms/step - loss: 0.5708 - accuracy: 0.8571 - val_loss: 0.5073 - val_accuracy: 0.8858\n",
      "Epoch 4/100\n",
      "32/32 [==============================] - 2s 48ms/step - loss: 0.5089 - accuracy: 0.8630 - val_loss: 0.5028 - val_accuracy: 0.8721\n",
      "Epoch 5/100\n",
      "32/32 [==============================] - 2s 50ms/step - loss: 0.5008 - accuracy: 0.8571 - val_loss: 0.4768 - val_accuracy: 0.8813\n",
      "Epoch 6/100\n",
      "32/32 [==============================] - 2s 50ms/step - loss: 0.5008 - accuracy: 0.8669 - val_loss: 0.5811 - val_accuracy: 0.7808\n",
      "Epoch 7/100\n",
      "32/32 [==============================] - 2s 48ms/step - loss: 0.4995 - accuracy: 0.8542 - val_loss: 0.4303 - val_accuracy: 0.8950\n",
      "Epoch 8/100\n",
      "32/32 [==============================] - 1s 41ms/step - loss: 0.4933 - accuracy: 0.8591 - val_loss: 0.4304 - val_accuracy: 0.8995\n",
      "Epoch 9/100\n",
      "32/32 [==============================] - 1s 46ms/step - loss: 0.4802 - accuracy: 0.8708 - val_loss: 0.4692 - val_accuracy: 0.8858\n",
      "Epoch 10/100\n",
      "32/32 [==============================] - 2s 45ms/step - loss: 0.4626 - accuracy: 0.8708 - val_loss: 0.4196 - val_accuracy: 0.8950\n",
      "Epoch 11/100\n",
      "32/32 [==============================] - 2s 49ms/step - loss: 0.4802 - accuracy: 0.8748 - val_loss: 0.4388 - val_accuracy: 0.8858\n",
      "Epoch 12/100\n",
      "32/32 [==============================] - 1s 46ms/step - loss: 0.4898 - accuracy: 0.8552 - val_loss: 0.4240 - val_accuracy: 0.9041\n",
      "Epoch 13/100\n",
      "32/32 [==============================] - 1s 46ms/step - loss: 0.4603 - accuracy: 0.8699 - val_loss: 0.4191 - val_accuracy: 0.8950\n",
      "Epoch 14/100\n",
      "32/32 [==============================] - 2s 50ms/step - loss: 0.4966 - accuracy: 0.8620 - val_loss: 0.4161 - val_accuracy: 0.8995\n",
      "Epoch 15/100\n",
      "32/32 [==============================] - 1s 46ms/step - loss: 0.4661 - accuracy: 0.8650 - val_loss: 0.4094 - val_accuracy: 0.8904\n",
      "Epoch 16/100\n",
      "32/32 [==============================] - 1s 45ms/step - loss: 0.4685 - accuracy: 0.8757 - val_loss: 0.4178 - val_accuracy: 0.8950\n",
      "Epoch 17/100\n",
      "32/32 [==============================] - 1s 43ms/step - loss: 0.4665 - accuracy: 0.8738 - val_loss: 0.4100 - val_accuracy: 0.8950\n",
      "Epoch 18/100\n",
      "32/32 [==============================] - 1s 42ms/step - loss: 0.4792 - accuracy: 0.8659 - val_loss: 0.4492 - val_accuracy: 0.8950\n",
      "Epoch 19/100\n",
      "32/32 [==============================] - 1s 42ms/step - loss: 0.4694 - accuracy: 0.8718 - val_loss: 0.4212 - val_accuracy: 0.8950\n",
      "Epoch 20/100\n",
      "32/32 [==============================] - 1s 40ms/step - loss: 0.4795 - accuracy: 0.8650 - val_loss: 0.5041 - val_accuracy: 0.8311\n",
      "Epoch 21/100\n",
      "32/32 [==============================] - 1s 40ms/step - loss: 0.4829 - accuracy: 0.8699 - val_loss: 0.4059 - val_accuracy: 0.8995\n",
      "Epoch 22/100\n",
      "32/32 [==============================] - 1s 39ms/step - loss: 0.4654 - accuracy: 0.8748 - val_loss: 0.4494 - val_accuracy: 0.8767\n",
      "Epoch 23/100\n",
      "32/32 [==============================] - 1s 43ms/step - loss: 0.4656 - accuracy: 0.8679 - val_loss: 0.4249 - val_accuracy: 0.8858\n",
      "Epoch 24/100\n",
      "32/32 [==============================] - 1s 42ms/step - loss: 0.4586 - accuracy: 0.8728 - val_loss: 0.3992 - val_accuracy: 0.8950\n",
      "Epoch 25/100\n",
      "32/32 [==============================] - 1s 41ms/step - loss: 0.4571 - accuracy: 0.8699 - val_loss: 0.4422 - val_accuracy: 0.8813\n",
      "Epoch 26/100\n",
      "32/32 [==============================] - 1s 42ms/step - loss: 0.4652 - accuracy: 0.8708 - val_loss: 0.4148 - val_accuracy: 0.8995\n",
      "Epoch 27/100\n",
      "32/32 [==============================] - 1s 42ms/step - loss: 0.4719 - accuracy: 0.8591 - val_loss: 0.3935 - val_accuracy: 0.8995\n",
      "Epoch 28/100\n",
      "32/32 [==============================] - 1s 43ms/step - loss: 0.4594 - accuracy: 0.8601 - val_loss: 0.4248 - val_accuracy: 0.8904\n",
      "Epoch 29/100\n",
      "32/32 [==============================] - 1s 42ms/step - loss: 0.4642 - accuracy: 0.8659 - val_loss: 0.4012 - val_accuracy: 0.8995\n",
      "Epoch 30/100\n",
      "32/32 [==============================] - 1s 43ms/step - loss: 0.4504 - accuracy: 0.8875 - val_loss: 0.3962 - val_accuracy: 0.8995\n",
      "Epoch 31/100\n",
      "32/32 [==============================] - 2s 51ms/step - loss: 0.4576 - accuracy: 0.8650 - val_loss: 0.3952 - val_accuracy: 0.8995\n",
      "Epoch 32/100\n",
      "32/32 [==============================] - 2s 52ms/step - loss: 0.4543 - accuracy: 0.8787 - val_loss: 0.4070 - val_accuracy: 0.8950\n",
      "Epoch 33/100\n",
      "32/32 [==============================] - 2s 56ms/step - loss: 0.4527 - accuracy: 0.8748 - val_loss: 0.3927 - val_accuracy: 0.8995\n",
      "Epoch 34/100\n",
      "32/32 [==============================] - 2s 64ms/step - loss: 0.4669 - accuracy: 0.8679 - val_loss: 0.4099 - val_accuracy: 0.8904\n",
      "Epoch 35/100\n",
      "32/32 [==============================] - 1s 42ms/step - loss: 0.4523 - accuracy: 0.8748 - val_loss: 0.3924 - val_accuracy: 0.8950\n",
      "Epoch 36/100\n",
      "32/32 [==============================] - 1s 45ms/step - loss: 0.4477 - accuracy: 0.8845 - val_loss: 0.3889 - val_accuracy: 0.8995\n",
      "Epoch 37/100\n",
      "32/32 [==============================] - 2s 60ms/step - loss: 0.4669 - accuracy: 0.8630 - val_loss: 0.4013 - val_accuracy: 0.8995\n",
      "Epoch 38/100\n",
      "32/32 [==============================] - 2s 58ms/step - loss: 0.4583 - accuracy: 0.8708 - val_loss: 0.4360 - val_accuracy: 0.8813\n",
      "Epoch 39/100\n",
      "32/32 [==============================] - 2s 50ms/step - loss: 0.4581 - accuracy: 0.8689 - val_loss: 0.3974 - val_accuracy: 0.8950\n",
      "Epoch 40/100\n",
      "32/32 [==============================] - 2s 49ms/step - loss: 0.4491 - accuracy: 0.8777 - val_loss: 0.3906 - val_accuracy: 0.8950\n",
      "Epoch 41/100\n",
      "32/32 [==============================] - 2s 50ms/step - loss: 0.4542 - accuracy: 0.8757 - val_loss: 0.3905 - val_accuracy: 0.9041\n",
      "Epoch 42/100\n",
      "32/32 [==============================] - 2s 58ms/step - loss: 0.4470 - accuracy: 0.8767 - val_loss: 0.4090 - val_accuracy: 0.8950\n",
      "Epoch 43/100\n",
      "32/32 [==============================] - 2s 49ms/step - loss: 0.4489 - accuracy: 0.8718 - val_loss: 0.4264 - val_accuracy: 0.8858\n",
      "Epoch 44/100\n",
      "32/32 [==============================] - 1s 45ms/step - loss: 0.4541 - accuracy: 0.8757 - val_loss: 0.3898 - val_accuracy: 0.9041\n",
      "Epoch 45/100\n",
      "32/32 [==============================] - 1s 45ms/step - loss: 0.4520 - accuracy: 0.8728 - val_loss: 0.3931 - val_accuracy: 0.9041\n",
      "Epoch 46/100\n",
      "32/32 [==============================] - 2s 50ms/step - loss: 0.4495 - accuracy: 0.8699 - val_loss: 0.3953 - val_accuracy: 0.8995\n",
      "Epoch 47/100\n",
      "32/32 [==============================] - 2s 61ms/step - loss: 0.4553 - accuracy: 0.8757 - val_loss: 0.4046 - val_accuracy: 0.8995\n",
      "Epoch 48/100\n",
      "32/32 [==============================] - 1s 43ms/step - loss: 0.4598 - accuracy: 0.8708 - val_loss: 0.3956 - val_accuracy: 0.9041\n",
      "Epoch 49/100\n",
      "32/32 [==============================] - 1s 40ms/step - loss: 0.4620 - accuracy: 0.8757 - val_loss: 0.4377 - val_accuracy: 0.8904\n",
      "Epoch 50/100\n",
      "32/32 [==============================] - 1s 40ms/step - loss: 0.4444 - accuracy: 0.8826 - val_loss: 0.4448 - val_accuracy: 0.8676\n",
      "Epoch 51/100\n",
      "32/32 [==============================] - 1s 37ms/step - loss: 0.4618 - accuracy: 0.8620 - val_loss: 0.4046 - val_accuracy: 0.8950\n",
      "Epoch 52/100\n",
      "32/32 [==============================] - 1s 37ms/step - loss: 0.4816 - accuracy: 0.8611 - val_loss: 0.4783 - val_accuracy: 0.8493\n",
      "Epoch 53/100\n",
      "32/32 [==============================] - 1s 37ms/step - loss: 0.4640 - accuracy: 0.8748 - val_loss: 0.4795 - val_accuracy: 0.8447\n",
      "Epoch 54/100\n",
      "32/32 [==============================] - 1s 37ms/step - loss: 0.4542 - accuracy: 0.8757 - val_loss: 0.3993 - val_accuracy: 0.8995\n",
      "Epoch 55/100\n",
      "32/32 [==============================] - 1s 41ms/step - loss: 0.4457 - accuracy: 0.8708 - val_loss: 0.3946 - val_accuracy: 0.8995\n",
      "Epoch 56/100\n",
      "32/32 [==============================] - 1s 40ms/step - loss: 0.4430 - accuracy: 0.8728 - val_loss: 0.3999 - val_accuracy: 0.9041\n",
      "Epoch 57/100\n",
      "32/32 [==============================] - 1s 40ms/step - loss: 0.4606 - accuracy: 0.8669 - val_loss: 0.4804 - val_accuracy: 0.8402\n",
      "Epoch 58/100\n",
      "32/32 [==============================] - 1s 40ms/step - loss: 0.4462 - accuracy: 0.8728 - val_loss: 0.3933 - val_accuracy: 0.8950\n",
      "Epoch 59/100\n",
      "32/32 [==============================] - 1s 40ms/step - loss: 0.4640 - accuracy: 0.8689 - val_loss: 0.4234 - val_accuracy: 0.8858\n",
      "Epoch 60/100\n",
      "32/32 [==============================] - 1s 41ms/step - loss: 0.4613 - accuracy: 0.8679 - val_loss: 0.3889 - val_accuracy: 0.9041\n",
      "Epoch 61/100\n",
      "32/32 [==============================] - 1s 39ms/step - loss: 0.4563 - accuracy: 0.8689 - val_loss: 0.3950 - val_accuracy: 0.8995\n",
      "Epoch 62/100\n",
      "32/32 [==============================] - 1s 41ms/step - loss: 0.4566 - accuracy: 0.8738 - val_loss: 0.3945 - val_accuracy: 0.8995\n",
      "Epoch 63/100\n",
      "32/32 [==============================] - 1s 37ms/step - loss: 0.4537 - accuracy: 0.8679 - val_loss: 0.3866 - val_accuracy: 0.9041\n",
      "Epoch 64/100\n",
      "32/32 [==============================] - 1s 38ms/step - loss: 0.4494 - accuracy: 0.8718 - val_loss: 0.3867 - val_accuracy: 0.8995\n",
      "Epoch 65/100\n",
      "32/32 [==============================] - 1s 37ms/step - loss: 0.4559 - accuracy: 0.8699 - val_loss: 0.4663 - val_accuracy: 0.8539\n",
      "Epoch 66/100\n",
      "32/32 [==============================] - 1s 38ms/step - loss: 0.4578 - accuracy: 0.8659 - val_loss: 0.3893 - val_accuracy: 0.8950\n",
      "Epoch 67/100\n",
      "32/32 [==============================] - 1s 37ms/step - loss: 0.4622 - accuracy: 0.8601 - val_loss: 0.4153 - val_accuracy: 0.9041\n",
      "Epoch 68/100\n",
      "32/32 [==============================] - 1s 40ms/step - loss: 0.4745 - accuracy: 0.8562 - val_loss: 0.3890 - val_accuracy: 0.9041\n",
      "Epoch 69/100\n",
      "32/32 [==============================] - 1s 39ms/step - loss: 0.4548 - accuracy: 0.8708 - val_loss: 0.4137 - val_accuracy: 0.8858\n",
      "Epoch 70/100\n",
      "32/32 [==============================] - 1s 40ms/step - loss: 0.4495 - accuracy: 0.8738 - val_loss: 0.3883 - val_accuracy: 0.9041\n",
      "Epoch 71/100\n",
      "32/32 [==============================] - 1s 40ms/step - loss: 0.4619 - accuracy: 0.8620 - val_loss: 0.4099 - val_accuracy: 0.8950\n",
      "Epoch 72/100\n",
      "32/32 [==============================] - 1s 40ms/step - loss: 0.4583 - accuracy: 0.8620 - val_loss: 0.3939 - val_accuracy: 0.8995\n",
      "Epoch 73/100\n",
      "32/32 [==============================] - 1s 42ms/step - loss: 0.4538 - accuracy: 0.8640 - val_loss: 0.3966 - val_accuracy: 0.9041\n",
      "Epoch 74/100\n",
      "32/32 [==============================] - 1s 40ms/step - loss: 0.4571 - accuracy: 0.8796 - val_loss: 0.3892 - val_accuracy: 0.8950\n",
      "Epoch 75/100\n",
      "32/32 [==============================] - 1s 39ms/step - loss: 0.4514 - accuracy: 0.8669 - val_loss: 0.3960 - val_accuracy: 0.8950\n",
      "Epoch 76/100\n",
      "32/32 [==============================] - 1s 37ms/step - loss: 0.4482 - accuracy: 0.8816 - val_loss: 0.3991 - val_accuracy: 0.8950\n",
      "Epoch 77/100\n",
      "32/32 [==============================] - 1s 38ms/step - loss: 0.4511 - accuracy: 0.8767 - val_loss: 0.3858 - val_accuracy: 0.8995\n",
      "Epoch 78/100\n",
      "32/32 [==============================] - 1s 37ms/step - loss: 0.4565 - accuracy: 0.8748 - val_loss: 0.3898 - val_accuracy: 0.8995\n",
      "Epoch 79/100\n",
      "32/32 [==============================] - 1s 38ms/step - loss: 0.4697 - accuracy: 0.8611 - val_loss: 0.3993 - val_accuracy: 0.8995\n",
      "Epoch 80/100\n",
      "32/32 [==============================] - 1s 38ms/step - loss: 0.4584 - accuracy: 0.8728 - val_loss: 0.3856 - val_accuracy: 0.9041\n",
      "Epoch 81/100\n",
      "32/32 [==============================] - 1s 41ms/step - loss: 0.4786 - accuracy: 0.8523 - val_loss: 0.3929 - val_accuracy: 0.8995\n",
      "Epoch 82/100\n",
      "32/32 [==============================] - 1s 44ms/step - loss: 0.4667 - accuracy: 0.8689 - val_loss: 0.4221 - val_accuracy: 0.8995\n",
      "Epoch 83/100\n",
      "32/32 [==============================] - 2s 49ms/step - loss: 0.4516 - accuracy: 0.8689 - val_loss: 0.3947 - val_accuracy: 0.8950\n",
      "Epoch 84/100\n",
      "32/32 [==============================] - 2s 55ms/step - loss: 0.4423 - accuracy: 0.8777 - val_loss: 0.4973 - val_accuracy: 0.8174\n",
      "Epoch 85/100\n",
      "32/32 [==============================] - 2s 53ms/step - loss: 0.4844 - accuracy: 0.8669 - val_loss: 0.3890 - val_accuracy: 0.9041\n",
      "Epoch 86/100\n",
      "32/32 [==============================] - 1s 45ms/step - loss: 0.4463 - accuracy: 0.8728 - val_loss: 0.3900 - val_accuracy: 0.8995\n",
      "Epoch 87/100\n",
      "32/32 [==============================] - 2s 49ms/step - loss: 0.4511 - accuracy: 0.8777 - val_loss: 0.3936 - val_accuracy: 0.8995\n",
      "Epoch 88/100\n",
      "32/32 [==============================] - 2s 49ms/step - loss: 0.4587 - accuracy: 0.8777 - val_loss: 0.3893 - val_accuracy: 0.9041\n",
      "Epoch 89/100\n",
      "32/32 [==============================] - 1s 44ms/step - loss: 0.4543 - accuracy: 0.8738 - val_loss: 0.4019 - val_accuracy: 0.8950\n",
      "Epoch 90/100\n",
      "32/32 [==============================] - 1s 44ms/step - loss: 0.4537 - accuracy: 0.8738 - val_loss: 0.3914 - val_accuracy: 0.8950\n",
      "Epoch 91/100\n",
      "32/32 [==============================] - 1s 42ms/step - loss: 0.4484 - accuracy: 0.8816 - val_loss: 0.3887 - val_accuracy: 0.8904\n",
      "Epoch 92/100\n",
      "32/32 [==============================] - 2s 59ms/step - loss: 0.4442 - accuracy: 0.8757 - val_loss: 0.4388 - val_accuracy: 0.8721\n",
      "Epoch 93/100\n",
      "32/32 [==============================] - 2s 76ms/step - loss: 0.4600 - accuracy: 0.8601 - val_loss: 0.3876 - val_accuracy: 0.8995\n",
      "Epoch 94/100\n",
      "32/32 [==============================] - 3s 80ms/step - loss: 0.4476 - accuracy: 0.8826 - val_loss: 0.4420 - val_accuracy: 0.8767\n",
      "Epoch 95/100\n",
      "32/32 [==============================] - 2s 54ms/step - loss: 0.4557 - accuracy: 0.8865 - val_loss: 0.3927 - val_accuracy: 0.8995\n",
      "Epoch 96/100\n",
      "32/32 [==============================] - 2s 66ms/step - loss: 0.4481 - accuracy: 0.8816 - val_loss: 0.3849 - val_accuracy: 0.8995\n",
      "Epoch 97/100\n",
      "32/32 [==============================] - 2s 47ms/step - loss: 0.4433 - accuracy: 0.8777 - val_loss: 0.3883 - val_accuracy: 0.9041\n",
      "Epoch 98/100\n",
      "32/32 [==============================] - 1s 41ms/step - loss: 0.4450 - accuracy: 0.8738 - val_loss: 0.3964 - val_accuracy: 0.8950\n",
      "Epoch 99/100\n",
      "32/32 [==============================] - 1s 41ms/step - loss: 0.4522 - accuracy: 0.8728 - val_loss: 0.4099 - val_accuracy: 0.8995\n",
      "Epoch 100/100\n",
      "32/32 [==============================] - 1s 42ms/step - loss: 0.4689 - accuracy: 0.8650 - val_loss: 0.4059 - val_accuracy: 0.9087\n"
     ]
    }
   ],
   "source": [
    "model_3.compile(optimizer='adam',\n",
    "              loss='binary_crossentropy',\n",
    "              metrics=['accuracy'])  \n",
    "###  Read about Adaptive moment estimation (Adam) at https://machinelearningmastery.com/adam-optimization-algorithm-for-deep-learning/\n",
    "              \n",
    "hist_3 = model_3.fit(X_train, Y_train,\n",
    "          batch_size=32, epochs=100,\n",
    "          validation_data=(X_val, Y_val))"
   ]
  },
  {
   "cell_type": "code",
   "execution_count": 26,
   "id": "2133df79",
   "metadata": {},
   "outputs": [
    {
     "data": {
      "image/png": "[encoded data removed]",
      "text/plain": [
       "<Figure size 432x288 with 1 Axes>"
      ]
     },
     "metadata": {
      "needs_background": "light"
     },
     "output_type": "display_data"
    }
   ],
   "source": [
    "plt.plot(hist_3.history['loss'])\n",
    "plt.plot(hist_3.history['val_loss'])\n",
    "plt.title('Model loss')\n",
    "plt.ylabel('Loss')\n",
    "plt.xlabel('Epoch')\n",
    "plt.legend(['Train', 'Val'], loc='upper right')\n",
    "plt.ylim(top=1.2, bottom=0)\n",
    "plt.show()"
   ]
  },
  {
   "cell_type": "code",
   "execution_count": 28,
   "id": "e85fa340",
   "metadata": {},
   "outputs": [
    {
     "data": {
      "image/png": "[encoded data removed]",
      "text/plain": [
       "<Figure size 432x288 with 1 Axes>"
      ]
     },
     "metadata": {
      "needs_background": "light"
     },
     "output_type": "display_data"
    }
   ],
   "source": [
    "plt.plot(hist_3.history['accuracy'])\n",
    "plt.plot(hist_3.history['val_accuracy'])\n",
    "plt.title('Model accuracy')\n",
    "plt.ylabel('Accuracy')\n",
    "plt.xlabel('Epoch')\n",
    "plt.legend(['Train', 'Val'], loc='lower right')\n",
    "plt.show()"
   ]
  },
  {
   "cell_type": "code",
   "execution_count": null,
   "id": "18dc88fb",
   "metadata": {},
   "outputs": [],
   "source": [
    "## To add Dropout, add a new layer like this: Dropout(0.3), and rerun the model.\n",
    "##This means that the neurons in the previous layer has a probability of 0.3 in dropping out during training. "
   ]
  }
 ],
 "metadata": {
  "kernelspec": {
   "display_name": "Python 3 (ipykernel)",
   "language": "python",
   "name": "python3"
  },
  "language_info": {
   "codemirror_mode": {
    "name": "ipython",
    "version": 3
   },
   "file_extension": ".py",
   "mimetype": "text/x-python",
   "name": "python",
   "nbconvert_exporter": "python",
   "pygments_lexer": "ipython3",
   "version": "3.9.12"
  }
 },
 "nbformat": 4,
 "nbformat_minor": 5
}
