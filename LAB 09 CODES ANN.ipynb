{
 "cells": [
  {
   "cell_type": "markdown",
   "id": "b01f042b",
   "metadata": {},
   "source": [
    "https://www.freecodecamp.org/news/how-to-build-your-first-neural-network-to-predict-house-prices-with-keras-f8db83049159/"
   ]
  },
  {
   "cell_type": "code",
   "execution_count": 1,
   "id": "1d7bd8eb",
   "metadata": {},
   "outputs": [
    {
     "data": {
      "text/html": [
       "<div>\n",
       "<style scoped>\n",
       "    .dataframe tbody tr th:only-of-type {\n",
       "        vertical-align: middle;\n",
       "    }\n",
       "\n",
       "    .dataframe tbody tr th {\n",
       "        vertical-align: top;\n",
       "    }\n",
       "\n",
       "    .dataframe thead th {\n",
       "        text-align: right;\n",
       "    }\n",
       "</style>\n",
       "<table border=\"1\" class=\"dataframe\">\n",
       "  <thead>\n",
       "    <tr style=\"text-align: right;\">\n",
       "      <th></th>\n",
       "      <th>LotArea</th>\n",
       "      <th>OverallQual</th>\n",
       "      <th>OverallCond</th>\n",
       "      <th>TotalBsmtSF</th>\n",
       "      <th>FullBath</th>\n",
       "      <th>HalfBath</th>\n",
       "      <th>BedroomAbvGr</th>\n",
       "      <th>TotRmsAbvGrd</th>\n",
       "      <th>Fireplaces</th>\n",
       "      <th>GarageArea</th>\n",
       "      <th>AboveMedianPrice</th>\n",
       "    </tr>\n",
       "  </thead>\n",
       "  <tbody>\n",
       "    <tr>\n",
       "      <th>0</th>\n",
       "      <td>8450</td>\n",
       "      <td>7</td>\n",
       "      <td>5</td>\n",
       "      <td>856</td>\n",
       "      <td>2</td>\n",
       "      <td>1</td>\n",
       "      <td>3</td>\n",
       "      <td>8</td>\n",
       "      <td>0</td>\n",
       "      <td>548</td>\n",
       "      <td>1</td>\n",
       "    </tr>\n",
       "    <tr>\n",
       "      <th>1</th>\n",
       "      <td>9600</td>\n",
       "      <td>6</td>\n",
       "      <td>8</td>\n",
       "      <td>1262</td>\n",
       "      <td>2</td>\n",
       "      <td>0</td>\n",
       "      <td>3</td>\n",
       "      <td>6</td>\n",
       "      <td>1</td>\n",
       "      <td>460</td>\n",
       "      <td>1</td>\n",
       "    </tr>\n",
       "    <tr>\n",
       "      <th>2</th>\n",
       "      <td>11250</td>\n",
       "      <td>7</td>\n",
       "      <td>5</td>\n",
       "      <td>920</td>\n",
       "      <td>2</td>\n",
       "      <td>1</td>\n",
       "      <td>3</td>\n",
       "      <td>6</td>\n",
       "      <td>1</td>\n",
       "      <td>608</td>\n",
       "      <td>1</td>\n",
       "    </tr>\n",
       "    <tr>\n",
       "      <th>3</th>\n",
       "      <td>9550</td>\n",
       "      <td>7</td>\n",
       "      <td>5</td>\n",
       "      <td>756</td>\n",
       "      <td>1</td>\n",
       "      <td>0</td>\n",
       "      <td>3</td>\n",
       "      <td>7</td>\n",
       "      <td>1</td>\n",
       "      <td>642</td>\n",
       "      <td>0</td>\n",
       "    </tr>\n",
       "    <tr>\n",
       "      <th>4</th>\n",
       "      <td>14260</td>\n",
       "      <td>8</td>\n",
       "      <td>5</td>\n",
       "      <td>1145</td>\n",
       "      <td>2</td>\n",
       "      <td>1</td>\n",
       "      <td>4</td>\n",
       "      <td>9</td>\n",
       "      <td>1</td>\n",
       "      <td>836</td>\n",
       "      <td>1</td>\n",
       "    </tr>\n",
       "  </tbody>\n",
       "</table>\n",
       "</div>"
      ],
      "text/plain": [
       "   LotArea  OverallQual  OverallCond  TotalBsmtSF  FullBath  HalfBath  \\\n",
       "0     8450            7            5          856         2         1   \n",
       "1     9600            6            8         1262         2         0   \n",
       "2    11250            7            5          920         2         1   \n",
       "3     9550            7            5          756         1         0   \n",
       "4    14260            8            5         1145         2         1   \n",
       "\n",
       "   BedroomAbvGr  TotRmsAbvGrd  Fireplaces  GarageArea  AboveMedianPrice  \n",
       "0             3             8           0         548                 1  \n",
       "1             3             6           1         460                 1  \n",
       "2             3             6           1         608                 1  \n",
       "3             3             7           1         642                 0  \n",
       "4             4             9           1         836                 1  "
      ]
     },
     "execution_count": 1,
     "metadata": {},
     "output_type": "execute_result"
    }
   ],
   "source": [
    "import pandas as pd\n",
    "# Importing the house price dataset\n",
    "df=pd.read_csv(r'C:\\Users\\Admin\\OneDrive - National University of Sciences & Technology\\Desktop\\Python-Lectures\\housepricedata.csv')\n",
    "df.head() "
   ]
  },
  {
   "cell_type": "code",
   "execution_count": 2,
   "id": "c38b7dd4",
   "metadata": {},
   "outputs": [
    {
     "data": {
      "text/plain": [
       "array([[ 8450,     7,     5, ...,     0,   548,     1],\n",
       "       [ 9600,     6,     8, ...,     1,   460,     1],\n",
       "       [11250,     7,     5, ...,     1,   608,     1],\n",
       "       ...,\n",
       "       [ 9042,     7,     9, ...,     2,   252,     1],\n",
       "       [ 9717,     5,     6, ...,     0,   240,     0],\n",
       "       [ 9937,     5,     6, ...,     0,   276,     0]], dtype=int64)"
      ]
     },
     "execution_count": 2,
     "metadata": {},
     "output_type": "execute_result"
    }
   ],
   "source": [
    "dataset = df.values### Converting data set into arrays\n",
    "dataset"
   ]
  },
  {
   "cell_type": "code",
   "execution_count": 3,
   "id": "64700585",
   "metadata": {},
   "outputs": [
    {
     "data": {
      "text/plain": [
       "(array([[ 8450,     7,     5, ...,     8,     0,   548],\n",
       "        [ 9600,     6,     8, ...,     6,     1,   460],\n",
       "        [11250,     7,     5, ...,     6,     1,   608],\n",
       "        ...,\n",
       "        [ 9042,     7,     9, ...,     9,     2,   252],\n",
       "        [ 9717,     5,     6, ...,     5,     0,   240],\n",
       "        [ 9937,     5,     6, ...,     6,     0,   276]], dtype=int64),\n",
       " array([1, 1, 1, ..., 1, 0, 0], dtype=int64))"
      ]
     },
     "execution_count": 3,
     "metadata": {},
     "output_type": "execute_result"
    }
   ],
   "source": [
    "X = dataset[:,0:10] ##First 10 variables as the input vectors\n",
    "X\n",
    "Y = dataset[:,10]## output vector Price of house\n",
    "\n",
    "X,Y"
   ]
  },
  {
   "cell_type": "code",
   "execution_count": 4,
   "id": "22061de5",
   "metadata": {},
   "outputs": [],
   "source": [
    "from sklearn import preprocessing ## Import sklearn for data pre-processing"
   ]
  },
  {
   "cell_type": "code",
   "execution_count": 5,
   "id": "975a9a6e",
   "metadata": {},
   "outputs": [
    {
     "data": {
      "text/plain": [
       "array([[0.0334198 , 0.66666667, 0.5       , ..., 0.5       , 0.        ,\n",
       "        0.3864598 ],\n",
       "       [0.03879502, 0.55555556, 0.875     , ..., 0.33333333, 0.33333333,\n",
       "        0.32440056],\n",
       "       [0.04650728, 0.66666667, 0.5       , ..., 0.33333333, 0.33333333,\n",
       "        0.42877292],\n",
       "       ...,\n",
       "       [0.03618687, 0.66666667, 1.        , ..., 0.58333333, 0.66666667,\n",
       "        0.17771509],\n",
       "       [0.03934189, 0.44444444, 0.625     , ..., 0.25      , 0.        ,\n",
       "        0.16925247],\n",
       "       [0.04037019, 0.44444444, 0.625     , ..., 0.33333333, 0.        ,\n",
       "        0.19464034]])"
      ]
     },
     "execution_count": 5,
     "metadata": {},
     "output_type": "execute_result"
    }
   ],
   "source": [
    "min_max_scaler = preprocessing.MinMaxScaler()\n",
    "X_scale = min_max_scaler.fit_transform(X)###scales the dataset so that all the input features lie between 0 and 1 inclusive:\n",
    "X_scale"
   ]
  },
  {
   "cell_type": "code",
   "execution_count": 6,
   "id": "5f0ae66a",
   "metadata": {},
   "outputs": [],
   "source": [
    "from sklearn.model_selection import train_test_split\n",
    "X_train, X_val_and_test, Y_train, Y_val_and_test = train_test_split(X_scale, Y, test_size=0.3)"
   ]
  },
  {
   "cell_type": "code",
   "execution_count": 7,
   "id": "fcf8e659",
   "metadata": {},
   "outputs": [],
   "source": [
    "X_val, X_test, Y_val, Y_test = train_test_split(X_val_and_test, Y_val_and_test, test_size=0.5)"
   ]
  },
  {
   "cell_type": "code",
   "execution_count": 8,
   "id": "82763726",
   "metadata": {},
   "outputs": [
    {
     "name": "stdout",
     "output_type": "stream",
     "text": [
      "(1022, 10) (219, 10) (219, 10) (1022,) (219,) (219,)\n"
     ]
    }
   ],
   "source": [
    "## Finding dimension of sub-vectors and matric\n",
    "print(X_train.shape, X_val.shape, X_test.shape, Y_train.shape, Y_val.shape, Y_test.shape)\n"
   ]
  },
  {
   "cell_type": "code",
   "execution_count": 9,
   "id": "595c5ce2",
   "metadata": {},
   "outputs": [],
   "source": [
    "from keras.models import Sequential ## Import Sequential from Keras.model library to run ANN model\n",
    "from keras.layers import Dense ###Import Dense from Keras.layers  library\n",
    "##Learn more about Dense from this link \n",
    "###https://www.tutorialspoint.com/keras/keras_dense_layer.htm#:~:text=Dense%20layer%20is%20the%20regular,input%2C%20kernel)%20%2B%20bias)"
   ]
  },
  {
   "cell_type": "code",
   "execution_count": 11,
   "id": "c3265528",
   "metadata": {},
   "outputs": [],
   "source": [
    "##Constructing a sequential ANN model(specify that in our Keras sequential model like this:)\n",
    "model = Sequential([\n",
    "    Dense(16, activation='relu', input_shape=(10,)),  ###Hidden layer 1: 32 neurons, ReLU activation.\n",
    "    Dense(16, activation='relu'), ##Hidden layer 2: 32 neurons, ReLU activation\n",
    "    Dense(1, activation='sigmoid'),##Output Layer: 1 neuron, Sigmoid activation\n",
    "])"
   ]
  },
  {
   "cell_type": "code",
   "execution_count": 12,
   "id": "8ce6f774",
   "metadata": {},
   "outputs": [
    {
     "data": {
      "text/plain": [
       "(<keras.layers.core.dense.Dense at 0x1bdb53475e0>,)"
      ]
     },
     "execution_count": 12,
     "metadata": {},
     "output_type": "execute_result"
    }
   ],
   "source": [
    "## Adding Dense \n",
    "Dense(16, activation='relu', input_shape=(10,)),\n",
    "Dense(16, activation='relu'),\n",
    "Dense(1, activation='sigmoid'),"
   ]
  },
  {
   "cell_type": "code",
   "execution_count": 14,
   "id": "d92f43d7",
   "metadata": {},
   "outputs": [],
   "source": [
    "##Compile the model (Filling in the best numbers)\n",
    "model.compile(optimizer='sgd',  ##stochastic gradient descent (over here, it refers to mini-batch gradient descent)\n",
    "              loss='binary_crossentropy', ##The loss function for outputs that take the values 1 or 0 is called binary cross entropy.\n",
    "              metrics=['accuracy'])## track accuracy on top of the loss function"
   ]
  },
  {
   "cell_type": "code",
   "execution_count": 15,
   "id": "1db1f368",
   "metadata": {},
   "outputs": [],
   "source": [
    "optimizer='sgd'"
   ]
  },
  {
   "cell_type": "code",
   "execution_count": 16,
   "id": "0eddf7a4",
   "metadata": {},
   "outputs": [],
   "source": [
    "loss='binary_crossentropy'"
   ]
  },
  {
   "cell_type": "code",
   "execution_count": 24,
   "id": "921dd0a2",
   "metadata": {},
   "outputs": [],
   "source": [
    "acc=['accuracy']"
   ]
  },
  {
   "cell_type": "code",
   "execution_count": 25,
   "id": "783a9af2",
   "metadata": {},
   "outputs": [
    {
     "name": "stdout",
     "output_type": "stream",
     "text": [
      "Epoch 1/100\n",
      "32/32 [==============================] - 0s 12ms/step - loss: 0.2994 - accuracy: 0.8757 - val_loss: 0.3127 - val_accuracy: 0.8676\n",
      "Epoch 2/100\n",
      "32/32 [==============================] - 0s 7ms/step - loss: 0.2983 - accuracy: 0.8787 - val_loss: 0.3157 - val_accuracy: 0.8630\n",
      "Epoch 3/100\n",
      "32/32 [==============================] - 0s 7ms/step - loss: 0.2981 - accuracy: 0.8816 - val_loss: 0.3108 - val_accuracy: 0.8676\n",
      "Epoch 4/100\n",
      "32/32 [==============================] - 0s 7ms/step - loss: 0.2975 - accuracy: 0.8777 - val_loss: 0.3093 - val_accuracy: 0.8676\n",
      "Epoch 5/100\n",
      "32/32 [==============================] - 0s 7ms/step - loss: 0.2964 - accuracy: 0.8757 - val_loss: 0.3074 - val_accuracy: 0.8721\n",
      "Epoch 6/100\n",
      "32/32 [==============================] - 0s 7ms/step - loss: 0.2960 - accuracy: 0.8777 - val_loss: 0.3068 - val_accuracy: 0.8630\n",
      "Epoch 7/100\n",
      "32/32 [==============================] - 0s 7ms/step - loss: 0.2954 - accuracy: 0.8767 - val_loss: 0.3050 - val_accuracy: 0.8767\n",
      "Epoch 8/100\n",
      "32/32 [==============================] - 0s 7ms/step - loss: 0.2945 - accuracy: 0.8806 - val_loss: 0.3036 - val_accuracy: 0.8813\n",
      "Epoch 9/100\n",
      "32/32 [==============================] - 0s 7ms/step - loss: 0.2940 - accuracy: 0.8826 - val_loss: 0.3028 - val_accuracy: 0.8813\n",
      "Epoch 10/100\n",
      "32/32 [==============================] - 0s 7ms/step - loss: 0.2931 - accuracy: 0.8806 - val_loss: 0.3027 - val_accuracy: 0.8767\n",
      "Epoch 11/100\n",
      "32/32 [==============================] - 0s 7ms/step - loss: 0.2924 - accuracy: 0.8777 - val_loss: 0.3008 - val_accuracy: 0.8813\n",
      "Epoch 12/100\n",
      "32/32 [==============================] - 0s 7ms/step - loss: 0.2916 - accuracy: 0.8806 - val_loss: 0.3021 - val_accuracy: 0.8721\n",
      "Epoch 13/100\n",
      "32/32 [==============================] - 0s 7ms/step - loss: 0.2914 - accuracy: 0.8806 - val_loss: 0.3005 - val_accuracy: 0.8721\n",
      "Epoch 14/100\n",
      "32/32 [==============================] - 0s 7ms/step - loss: 0.2907 - accuracy: 0.8806 - val_loss: 0.3012 - val_accuracy: 0.8721\n",
      "Epoch 15/100\n",
      "32/32 [==============================] - 0s 7ms/step - loss: 0.2902 - accuracy: 0.8845 - val_loss: 0.2988 - val_accuracy: 0.8767\n",
      "Epoch 16/100\n",
      "32/32 [==============================] - 0s 7ms/step - loss: 0.2899 - accuracy: 0.8796 - val_loss: 0.2989 - val_accuracy: 0.8721\n",
      "Epoch 17/100\n",
      "32/32 [==============================] - 0s 7ms/step - loss: 0.2889 - accuracy: 0.8816 - val_loss: 0.2961 - val_accuracy: 0.8767\n",
      "Epoch 18/100\n",
      "32/32 [==============================] - 0s 7ms/step - loss: 0.2885 - accuracy: 0.8845 - val_loss: 0.2964 - val_accuracy: 0.8767\n",
      "Epoch 19/100\n",
      "32/32 [==============================] - 0s 7ms/step - loss: 0.2877 - accuracy: 0.8836 - val_loss: 0.2989 - val_accuracy: 0.8813\n",
      "Epoch 20/100\n",
      "32/32 [==============================] - 0s 7ms/step - loss: 0.2876 - accuracy: 0.8836 - val_loss: 0.2966 - val_accuracy: 0.8721\n",
      "Epoch 21/100\n",
      "32/32 [==============================] - 0s 7ms/step - loss: 0.2873 - accuracy: 0.8855 - val_loss: 0.2949 - val_accuracy: 0.8767\n",
      "Epoch 22/100\n",
      "32/32 [==============================] - 0s 8ms/step - loss: 0.2865 - accuracy: 0.8836 - val_loss: 0.2939 - val_accuracy: 0.8767\n",
      "Epoch 23/100\n",
      "32/32 [==============================] - 0s 8ms/step - loss: 0.2858 - accuracy: 0.8816 - val_loss: 0.2928 - val_accuracy: 0.8813\n",
      "Epoch 24/100\n",
      "32/32 [==============================] - 0s 8ms/step - loss: 0.2849 - accuracy: 0.8845 - val_loss: 0.2929 - val_accuracy: 0.8767\n",
      "Epoch 25/100\n",
      "32/32 [==============================] - 0s 8ms/step - loss: 0.2847 - accuracy: 0.8806 - val_loss: 0.2910 - val_accuracy: 0.8813\n",
      "Epoch 26/100\n",
      "32/32 [==============================] - 0s 9ms/step - loss: 0.2843 - accuracy: 0.8855 - val_loss: 0.2905 - val_accuracy: 0.8813\n",
      "Epoch 27/100\n",
      "32/32 [==============================] - 0s 8ms/step - loss: 0.2840 - accuracy: 0.8816 - val_loss: 0.2926 - val_accuracy: 0.8904\n",
      "Epoch 28/100\n",
      "32/32 [==============================] - 0s 7ms/step - loss: 0.2833 - accuracy: 0.8875 - val_loss: 0.2892 - val_accuracy: 0.8813\n",
      "Epoch 29/100\n",
      "32/32 [==============================] - 0s 7ms/step - loss: 0.2829 - accuracy: 0.8826 - val_loss: 0.2879 - val_accuracy: 0.8858\n",
      "Epoch 30/100\n",
      "32/32 [==============================] - 0s 7ms/step - loss: 0.2823 - accuracy: 0.8836 - val_loss: 0.2881 - val_accuracy: 0.8813\n",
      "Epoch 31/100\n",
      "32/32 [==============================] - 0s 7ms/step - loss: 0.2817 - accuracy: 0.8855 - val_loss: 0.2873 - val_accuracy: 0.8858\n",
      "Epoch 32/100\n",
      "32/32 [==============================] - 0s 7ms/step - loss: 0.2815 - accuracy: 0.8865 - val_loss: 0.2863 - val_accuracy: 0.8858\n",
      "Epoch 33/100\n",
      "32/32 [==============================] - 0s 7ms/step - loss: 0.2809 - accuracy: 0.8836 - val_loss: 0.2866 - val_accuracy: 0.8950\n",
      "Epoch 34/100\n",
      "32/32 [==============================] - 0s 7ms/step - loss: 0.2804 - accuracy: 0.8875 - val_loss: 0.2870 - val_accuracy: 0.8904\n",
      "Epoch 35/100\n",
      "32/32 [==============================] - 0s 7ms/step - loss: 0.2805 - accuracy: 0.8845 - val_loss: 0.2865 - val_accuracy: 0.8904\n",
      "Epoch 36/100\n",
      "32/32 [==============================] - 0s 7ms/step - loss: 0.2795 - accuracy: 0.8885 - val_loss: 0.2843 - val_accuracy: 0.8904\n",
      "Epoch 37/100\n",
      "32/32 [==============================] - 0s 6ms/step - loss: 0.2792 - accuracy: 0.8865 - val_loss: 0.2847 - val_accuracy: 0.8995\n",
      "Epoch 38/100\n",
      "32/32 [==============================] - 0s 6ms/step - loss: 0.2789 - accuracy: 0.8836 - val_loss: 0.2869 - val_accuracy: 0.8858\n",
      "Epoch 39/100\n",
      "32/32 [==============================] - 0s 6ms/step - loss: 0.2780 - accuracy: 0.8836 - val_loss: 0.2863 - val_accuracy: 0.8858\n",
      "Epoch 40/100\n",
      "32/32 [==============================] - 0s 7ms/step - loss: 0.2778 - accuracy: 0.8845 - val_loss: 0.2838 - val_accuracy: 0.8950\n",
      "Epoch 41/100\n",
      "32/32 [==============================] - 0s 6ms/step - loss: 0.2782 - accuracy: 0.8865 - val_loss: 0.2822 - val_accuracy: 0.8995\n",
      "Epoch 42/100\n",
      "32/32 [==============================] - 0s 7ms/step - loss: 0.2771 - accuracy: 0.8885 - val_loss: 0.2807 - val_accuracy: 0.8904\n",
      "Epoch 43/100\n",
      "32/32 [==============================] - 0s 7ms/step - loss: 0.2777 - accuracy: 0.8836 - val_loss: 0.2810 - val_accuracy: 0.8995\n",
      "Epoch 44/100\n",
      "32/32 [==============================] - 0s 8ms/step - loss: 0.2764 - accuracy: 0.8885 - val_loss: 0.2825 - val_accuracy: 0.8950\n",
      "Epoch 45/100\n",
      "32/32 [==============================] - 0s 6ms/step - loss: 0.2764 - accuracy: 0.8855 - val_loss: 0.2817 - val_accuracy: 0.8950\n",
      "Epoch 46/100\n",
      "32/32 [==============================] - 0s 7ms/step - loss: 0.2759 - accuracy: 0.8875 - val_loss: 0.2793 - val_accuracy: 0.8995\n",
      "Epoch 47/100\n",
      "32/32 [==============================] - 0s 13ms/step - loss: 0.2749 - accuracy: 0.8865 - val_loss: 0.2781 - val_accuracy: 0.8950\n",
      "Epoch 48/100\n",
      "32/32 [==============================] - 0s 7ms/step - loss: 0.2750 - accuracy: 0.8826 - val_loss: 0.2791 - val_accuracy: 0.8995\n",
      "Epoch 49/100\n",
      "32/32 [==============================] - 0s 6ms/step - loss: 0.2750 - accuracy: 0.8875 - val_loss: 0.2794 - val_accuracy: 0.8950\n",
      "Epoch 50/100\n",
      "32/32 [==============================] - 0s 6ms/step - loss: 0.2748 - accuracy: 0.8865 - val_loss: 0.2779 - val_accuracy: 0.8995\n",
      "Epoch 51/100\n",
      "32/32 [==============================] - 0s 7ms/step - loss: 0.2743 - accuracy: 0.8855 - val_loss: 0.2760 - val_accuracy: 0.8950\n",
      "Epoch 52/100\n",
      "32/32 [==============================] - 0s 7ms/step - loss: 0.2747 - accuracy: 0.8826 - val_loss: 0.2758 - val_accuracy: 0.9041\n",
      "Epoch 53/100\n",
      "32/32 [==============================] - 0s 6ms/step - loss: 0.2734 - accuracy: 0.8836 - val_loss: 0.2753 - val_accuracy: 0.9041\n",
      "Epoch 54/100\n",
      "32/32 [==============================] - 0s 5ms/step - loss: 0.2734 - accuracy: 0.8855 - val_loss: 0.2761 - val_accuracy: 0.8995\n",
      "Epoch 55/100\n",
      "32/32 [==============================] - 0s 5ms/step - loss: 0.2731 - accuracy: 0.8845 - val_loss: 0.2773 - val_accuracy: 0.8858\n",
      "Epoch 56/100\n",
      "32/32 [==============================] - 0s 6ms/step - loss: 0.2733 - accuracy: 0.8855 - val_loss: 0.2753 - val_accuracy: 0.8995\n",
      "Epoch 57/100\n",
      "32/32 [==============================] - 0s 5ms/step - loss: 0.2728 - accuracy: 0.8855 - val_loss: 0.2752 - val_accuracy: 0.8950\n",
      "Epoch 58/100\n",
      "32/32 [==============================] - 0s 5ms/step - loss: 0.2724 - accuracy: 0.8845 - val_loss: 0.2744 - val_accuracy: 0.8950\n",
      "Epoch 59/100\n",
      "32/32 [==============================] - 0s 5ms/step - loss: 0.2718 - accuracy: 0.8865 - val_loss: 0.2739 - val_accuracy: 0.8995\n",
      "Epoch 60/100\n",
      "32/32 [==============================] - 0s 5ms/step - loss: 0.2711 - accuracy: 0.8865 - val_loss: 0.2720 - val_accuracy: 0.9041\n",
      "Epoch 61/100\n",
      "32/32 [==============================] - 0s 5ms/step - loss: 0.2710 - accuracy: 0.8836 - val_loss: 0.2727 - val_accuracy: 0.8995\n",
      "Epoch 62/100\n",
      "32/32 [==============================] - 0s 6ms/step - loss: 0.2703 - accuracy: 0.8865 - val_loss: 0.2717 - val_accuracy: 0.9041\n",
      "Epoch 63/100\n",
      "32/32 [==============================] - 0s 6ms/step - loss: 0.2708 - accuracy: 0.8865 - val_loss: 0.2729 - val_accuracy: 0.8950\n",
      "Epoch 64/100\n",
      "32/32 [==============================] - 0s 5ms/step - loss: 0.2702 - accuracy: 0.8865 - val_loss: 0.2720 - val_accuracy: 0.8950\n",
      "Epoch 65/100\n",
      "32/32 [==============================] - 0s 5ms/step - loss: 0.2698 - accuracy: 0.8865 - val_loss: 0.2701 - val_accuracy: 0.9041\n",
      "Epoch 66/100\n",
      "32/32 [==============================] - 0s 5ms/step - loss: 0.2693 - accuracy: 0.8875 - val_loss: 0.2696 - val_accuracy: 0.9041\n",
      "Epoch 67/100\n",
      "32/32 [==============================] - 0s 5ms/step - loss: 0.2691 - accuracy: 0.8904 - val_loss: 0.2695 - val_accuracy: 0.9041\n",
      "Epoch 68/100\n",
      "32/32 [==============================] - 0s 5ms/step - loss: 0.2689 - accuracy: 0.8836 - val_loss: 0.2687 - val_accuracy: 0.9041\n",
      "Epoch 69/100\n",
      "32/32 [==============================] - 0s 5ms/step - loss: 0.2694 - accuracy: 0.8855 - val_loss: 0.2692 - val_accuracy: 0.8995\n",
      "Epoch 70/100\n",
      "32/32 [==============================] - 0s 5ms/step - loss: 0.2682 - accuracy: 0.8875 - val_loss: 0.2689 - val_accuracy: 0.8995\n",
      "Epoch 71/100\n",
      "32/32 [==============================] - 0s 5ms/step - loss: 0.2685 - accuracy: 0.8885 - val_loss: 0.2676 - val_accuracy: 0.9041\n",
      "Epoch 72/100\n",
      "32/32 [==============================] - 0s 6ms/step - loss: 0.2680 - accuracy: 0.8836 - val_loss: 0.2679 - val_accuracy: 0.8995\n",
      "Epoch 73/100\n",
      "32/32 [==============================] - 0s 5ms/step - loss: 0.2673 - accuracy: 0.8885 - val_loss: 0.2674 - val_accuracy: 0.9041\n",
      "Epoch 74/100\n",
      "32/32 [==============================] - 0s 5ms/step - loss: 0.2682 - accuracy: 0.8836 - val_loss: 0.2680 - val_accuracy: 0.9041\n",
      "Epoch 75/100\n",
      "32/32 [==============================] - 0s 5ms/step - loss: 0.2674 - accuracy: 0.8875 - val_loss: 0.2668 - val_accuracy: 0.8995\n",
      "Epoch 76/100\n",
      "32/32 [==============================] - 0s 6ms/step - loss: 0.2674 - accuracy: 0.8855 - val_loss: 0.2659 - val_accuracy: 0.9041\n",
      "Epoch 77/100\n",
      "32/32 [==============================] - 0s 5ms/step - loss: 0.2669 - accuracy: 0.8826 - val_loss: 0.2662 - val_accuracy: 0.8995\n",
      "Epoch 78/100\n",
      "32/32 [==============================] - 0s 5ms/step - loss: 0.2667 - accuracy: 0.8885 - val_loss: 0.2660 - val_accuracy: 0.8995\n",
      "Epoch 79/100\n",
      "32/32 [==============================] - 0s 5ms/step - loss: 0.2663 - accuracy: 0.8904 - val_loss: 0.2660 - val_accuracy: 0.9041\n",
      "Epoch 80/100\n",
      "32/32 [==============================] - 0s 7ms/step - loss: 0.2659 - accuracy: 0.8885 - val_loss: 0.2649 - val_accuracy: 0.8995\n",
      "Epoch 81/100\n",
      "32/32 [==============================] - 0s 7ms/step - loss: 0.2665 - accuracy: 0.8875 - val_loss: 0.2647 - val_accuracy: 0.8995\n",
      "Epoch 82/100\n",
      "32/32 [==============================] - 0s 7ms/step - loss: 0.2661 - accuracy: 0.8894 - val_loss: 0.2640 - val_accuracy: 0.9041\n",
      "Epoch 83/100\n",
      "32/32 [==============================] - 0s 7ms/step - loss: 0.2656 - accuracy: 0.8885 - val_loss: 0.2637 - val_accuracy: 0.8995\n",
      "Epoch 84/100\n",
      "32/32 [==============================] - 0s 7ms/step - loss: 0.2650 - accuracy: 0.8865 - val_loss: 0.2637 - val_accuracy: 0.8995\n",
      "Epoch 85/100\n",
      "32/32 [==============================] - 0s 7ms/step - loss: 0.2648 - accuracy: 0.8904 - val_loss: 0.2631 - val_accuracy: 0.8995\n",
      "Epoch 86/100\n",
      "32/32 [==============================] - 0s 7ms/step - loss: 0.2640 - accuracy: 0.8894 - val_loss: 0.2627 - val_accuracy: 0.9041\n",
      "Epoch 87/100\n",
      "32/32 [==============================] - 0s 7ms/step - loss: 0.2652 - accuracy: 0.8865 - val_loss: 0.2633 - val_accuracy: 0.9041\n",
      "Epoch 88/100\n",
      "32/32 [==============================] - 0s 7ms/step - loss: 0.2640 - accuracy: 0.8885 - val_loss: 0.2621 - val_accuracy: 0.8995\n",
      "Epoch 89/100\n",
      "32/32 [==============================] - 0s 7ms/step - loss: 0.2640 - accuracy: 0.8855 - val_loss: 0.2630 - val_accuracy: 0.9041\n",
      "Epoch 90/100\n",
      "32/32 [==============================] - 0s 7ms/step - loss: 0.2637 - accuracy: 0.8894 - val_loss: 0.2617 - val_accuracy: 0.8995\n",
      "Epoch 91/100\n",
      "32/32 [==============================] - 0s 6ms/step - loss: 0.2633 - accuracy: 0.8885 - val_loss: 0.2612 - val_accuracy: 0.9041\n",
      "Epoch 92/100\n",
      "32/32 [==============================] - 0s 6ms/step - loss: 0.2636 - accuracy: 0.8885 - val_loss: 0.2609 - val_accuracy: 0.8995\n",
      "Epoch 93/100\n",
      "32/32 [==============================] - 0s 6ms/step - loss: 0.2633 - accuracy: 0.8904 - val_loss: 0.2611 - val_accuracy: 0.9041\n",
      "Epoch 94/100\n",
      "32/32 [==============================] - 0s 6ms/step - loss: 0.2628 - accuracy: 0.8875 - val_loss: 0.2623 - val_accuracy: 0.8950\n",
      "Epoch 95/100\n",
      "32/32 [==============================] - 0s 6ms/step - loss: 0.2624 - accuracy: 0.8933 - val_loss: 0.2609 - val_accuracy: 0.8995\n",
      "Epoch 96/100\n",
      "32/32 [==============================] - 0s 7ms/step - loss: 0.2620 - accuracy: 0.8865 - val_loss: 0.2602 - val_accuracy: 0.9041\n",
      "Epoch 97/100\n",
      "32/32 [==============================] - 0s 6ms/step - loss: 0.2623 - accuracy: 0.8885 - val_loss: 0.2616 - val_accuracy: 0.8950\n",
      "Epoch 98/100\n",
      "32/32 [==============================] - 0s 7ms/step - loss: 0.2623 - accuracy: 0.8904 - val_loss: 0.2634 - val_accuracy: 0.8904\n",
      "Epoch 99/100\n",
      "32/32 [==============================] - 0s 6ms/step - loss: 0.2618 - accuracy: 0.8875 - val_loss: 0.2590 - val_accuracy: 0.8995\n",
      "Epoch 100/100\n",
      "32/32 [==============================] - 0s 7ms/step - loss: 0.2620 - accuracy: 0.8914 - val_loss: 0.2586 - val_accuracy: 0.8995\n"
     ]
    }
   ],
   "source": [
    "##This function will output a history, which we save under the variable hist. \n",
    "hist = model.fit(X_train, Y_train,\n",
    "          batch_size=32, epochs=100,  ##the size of our mini-batch   ## epochs: how long we want to train it for \n",
    "          validation_data=(X_val, Y_val))\n",
    "##specify what our validation data is so that the model will tell us how we are doing on the validation data at each point"
   ]
  },
  {
   "cell_type": "code",
   "execution_count": 19,
   "id": "58887ef2",
   "metadata": {},
   "outputs": [
    {
     "name": "stdout",
     "output_type": "stream",
     "text": [
      "7/7 [==============================] - 0s 5ms/step - loss: 0.2997 - accuracy: 0.8813\n"
     ]
    },
    {
     "data": {
      "text/plain": [
       "0.8812785148620605"
      ]
     },
     "execution_count": 19,
     "metadata": {},
     "output_type": "execute_result"
    }
   ],
   "source": [
    "## the accuracy on our test set\n",
    "model.evaluate(X_test, Y_test)[1] "
   ]
  },
  {
   "cell_type": "code",
   "execution_count": 21,
   "id": "ea4ed59f",
   "metadata": {},
   "outputs": [],
   "source": [
    "import matplotlib.pyplot as plt"
   ]
  },
  {
   "cell_type": "code",
   "execution_count": 22,
   "id": "1698f7e9",
   "metadata": {},
   "outputs": [
    {
     "data": {
      "image/png": "[encoded data removed]",
      "text/plain": [
       "<Figure size 432x288 with 1 Axes>"
      ]
     },
     "metadata": {
      "needs_background": "light"
     },
     "output_type": "display_data"
    }
   ],
   "source": [
    "plt.plot(hist.history['loss'])\n",
    "plt.plot(hist.history['val_loss'])\n",
    "plt.title('Model loss')\n",
    "plt.ylabel('Loss')\n",
    "plt.xlabel('Epoch')\n",
    "plt.legend(['Train', 'Val'], loc='upper right')\n",
    "plt.show()"
   ]
  },
  {
   "cell_type": "code",
   "execution_count": 33,
   "id": "29378690",
   "metadata": {},
   "outputs": [
    {
     "data": {
      "image/png": "[encoded data removed]",
      "text/plain": [
       "<Figure size 432x288 with 1 Axes>"
      ]
     },
     "metadata": {
      "needs_background": "light"
     },
     "output_type": "display_data"
    }
   ],
   "source": [
    "plt.plot(hist.history['accuracy'])\n",
    "plt.plot(hist.history['val_accuracy'])\n",
    "plt.title('Model accuracy')\n",
    "plt.ylabel('Accuracy')\n",
    "plt.xlabel('Epoch')\n",
    "plt.legend(['Train', 'Val'], loc='lower right')\n",
    "plt.show()"
   ]
  },
  {
   "cell_type": "code",
   "execution_count": 30,
   "id": "9865df4f",
   "metadata": {},
   "outputs": [
    {
     "name": "stdout",
     "output_type": "stream",
     "text": [
      "Epoch 1/100\n",
      "32/32 [==============================] - 3s 52ms/step - loss: 0.4680 - accuracy: 0.7935 - val_loss: 0.4591 - val_accuracy: 0.7808\n",
      "Epoch 2/100\n",
      "32/32 [==============================] - 1s 34ms/step - loss: 0.3470 - accuracy: 0.8523 - val_loss: 0.3667 - val_accuracy: 0.8584\n",
      "Epoch 3/100\n",
      "32/32 [==============================] - 1s 35ms/step - loss: 0.3486 - accuracy: 0.8542 - val_loss: 0.4654 - val_accuracy: 0.7717\n",
      "Epoch 4/100\n",
      "32/32 [==============================] - 1s 39ms/step - loss: 0.3009 - accuracy: 0.8757 - val_loss: 0.2961 - val_accuracy: 0.8767\n",
      "Epoch 5/100\n",
      "32/32 [==============================] - 1s 34ms/step - loss: 0.2733 - accuracy: 0.8855 - val_loss: 0.3205 - val_accuracy: 0.8904\n",
      "Epoch 6/100\n",
      "32/32 [==============================] - 1s 34ms/step - loss: 0.2689 - accuracy: 0.8973 - val_loss: 0.2684 - val_accuracy: 0.9041\n",
      "Epoch 7/100\n",
      "32/32 [==============================] - 1s 34ms/step - loss: 0.2486 - accuracy: 0.8973 - val_loss: 0.3271 - val_accuracy: 0.8493\n",
      "Epoch 8/100\n",
      "32/32 [==============================] - 1s 34ms/step - loss: 0.2448 - accuracy: 0.9022 - val_loss: 0.3053 - val_accuracy: 0.8584\n",
      "Epoch 9/100\n",
      "32/32 [==============================] - 1s 34ms/step - loss: 0.2784 - accuracy: 0.8836 - val_loss: 0.3591 - val_accuracy: 0.8265\n",
      "Epoch 10/100\n",
      "32/32 [==============================] - 1s 34ms/step - loss: 0.2386 - accuracy: 0.8963 - val_loss: 0.2471 - val_accuracy: 0.9041\n",
      "Epoch 11/100\n",
      "32/32 [==============================] - 1s 33ms/step - loss: 0.2331 - accuracy: 0.9031 - val_loss: 0.2488 - val_accuracy: 0.8721\n",
      "Epoch 12/100\n",
      "32/32 [==============================] - 1s 35ms/step - loss: 0.2075 - accuracy: 0.9159 - val_loss: 0.2655 - val_accuracy: 0.9087\n",
      "Epoch 13/100\n",
      "32/32 [==============================] - 1s 42ms/step - loss: 0.2272 - accuracy: 0.9100 - val_loss: 0.2403 - val_accuracy: 0.9087\n",
      "Epoch 14/100\n",
      "32/32 [==============================] - 1s 36ms/step - loss: 0.2208 - accuracy: 0.9070 - val_loss: 0.2355 - val_accuracy: 0.8995\n",
      "Epoch 15/100\n",
      "32/32 [==============================] - 1s 33ms/step - loss: 0.1954 - accuracy: 0.9227 - val_loss: 0.2834 - val_accuracy: 0.8767\n",
      "Epoch 16/100\n",
      "32/32 [==============================] - 1s 32ms/step - loss: 0.2278 - accuracy: 0.9061 - val_loss: 0.2515 - val_accuracy: 0.8950\n",
      "Epoch 17/100\n",
      "32/32 [==============================] - 1s 34ms/step - loss: 0.2099 - accuracy: 0.9041 - val_loss: 0.2705 - val_accuracy: 0.8721\n",
      "Epoch 18/100\n",
      "32/32 [==============================] - 1s 34ms/step - loss: 0.2182 - accuracy: 0.9149 - val_loss: 0.2500 - val_accuracy: 0.8950\n",
      "Epoch 19/100\n",
      "32/32 [==============================] - 1s 35ms/step - loss: 0.2080 - accuracy: 0.9022 - val_loss: 0.2467 - val_accuracy: 0.8904\n",
      "Epoch 20/100\n",
      "32/32 [==============================] - 1s 35ms/step - loss: 0.1878 - accuracy: 0.9247 - val_loss: 0.2139 - val_accuracy: 0.9132\n",
      "Epoch 21/100\n",
      "32/32 [==============================] - 1s 33ms/step - loss: 0.1929 - accuracy: 0.9159 - val_loss: 0.2471 - val_accuracy: 0.8858\n",
      "Epoch 22/100\n",
      "32/32 [==============================] - 1s 33ms/step - loss: 0.1808 - accuracy: 0.9168 - val_loss: 0.2835 - val_accuracy: 0.8858\n",
      "Epoch 23/100\n",
      "32/32 [==============================] - 1s 34ms/step - loss: 0.1871 - accuracy: 0.9149 - val_loss: 0.2198 - val_accuracy: 0.8995\n",
      "Epoch 24/100\n",
      "32/32 [==============================] - 1s 34ms/step - loss: 0.2074 - accuracy: 0.9110 - val_loss: 0.2876 - val_accuracy: 0.8630\n",
      "Epoch 25/100\n",
      "32/32 [==============================] - 1s 38ms/step - loss: 0.2029 - accuracy: 0.9100 - val_loss: 0.2292 - val_accuracy: 0.8995\n",
      "Epoch 26/100\n",
      "32/32 [==============================] - 1s 33ms/step - loss: 0.2014 - accuracy: 0.9159 - val_loss: 0.2718 - val_accuracy: 0.8721\n",
      "Epoch 27/100\n",
      "32/32 [==============================] - 1s 33ms/step - loss: 0.1871 - accuracy: 0.9149 - val_loss: 0.2724 - val_accuracy: 0.8721\n",
      "Epoch 28/100\n",
      "32/32 [==============================] - 1s 33ms/step - loss: 0.1821 - accuracy: 0.9266 - val_loss: 0.2344 - val_accuracy: 0.9041\n",
      "Epoch 29/100\n",
      "32/32 [==============================] - 1s 33ms/step - loss: 0.1852 - accuracy: 0.9198 - val_loss: 0.2398 - val_accuracy: 0.8858\n",
      "Epoch 30/100\n",
      "32/32 [==============================] - 1s 33ms/step - loss: 0.2030 - accuracy: 0.9188 - val_loss: 0.2984 - val_accuracy: 0.8676\n",
      "Epoch 31/100\n",
      "32/32 [==============================] - 1s 40ms/step - loss: 0.2044 - accuracy: 0.9207 - val_loss: 0.2273 - val_accuracy: 0.8904\n",
      "Epoch 32/100\n",
      "32/32 [==============================] - 1s 33ms/step - loss: 0.1797 - accuracy: 0.9227 - val_loss: 0.2205 - val_accuracy: 0.9132\n",
      "Epoch 33/100\n",
      "32/32 [==============================] - 1s 35ms/step - loss: 0.1790 - accuracy: 0.9198 - val_loss: 0.2567 - val_accuracy: 0.8904\n",
      "Epoch 34/100\n",
      "32/32 [==============================] - 1s 34ms/step - loss: 0.1670 - accuracy: 0.9266 - val_loss: 0.2327 - val_accuracy: 0.9041\n",
      "Epoch 35/100\n",
      "32/32 [==============================] - 1s 35ms/step - loss: 0.1628 - accuracy: 0.9266 - val_loss: 0.3804 - val_accuracy: 0.8767\n",
      "Epoch 36/100\n",
      "32/32 [==============================] - 1s 33ms/step - loss: 0.1874 - accuracy: 0.9198 - val_loss: 0.2712 - val_accuracy: 0.8950\n",
      "Epoch 37/100\n",
      "32/32 [==============================] - 1s 32ms/step - loss: 0.1994 - accuracy: 0.9119 - val_loss: 0.2455 - val_accuracy: 0.8767\n",
      "Epoch 38/100\n",
      "32/32 [==============================] - 1s 33ms/step - loss: 0.1887 - accuracy: 0.9227 - val_loss: 0.2480 - val_accuracy: 0.8721\n",
      "Epoch 39/100\n",
      "32/32 [==============================] - 1s 36ms/step - loss: 0.1645 - accuracy: 0.9315 - val_loss: 0.2484 - val_accuracy: 0.8858\n",
      "Epoch 40/100\n",
      "32/32 [==============================] - 1s 38ms/step - loss: 0.1628 - accuracy: 0.9315 - val_loss: 0.2662 - val_accuracy: 0.8904\n",
      "Epoch 41/100\n",
      "32/32 [==============================] - 1s 33ms/step - loss: 0.1731 - accuracy: 0.9217 - val_loss: 0.2168 - val_accuracy: 0.8904\n",
      "Epoch 42/100\n",
      "32/32 [==============================] - 1s 34ms/step - loss: 0.1713 - accuracy: 0.9266 - val_loss: 0.3372 - val_accuracy: 0.8721\n",
      "Epoch 43/100\n",
      "32/32 [==============================] - 1s 33ms/step - loss: 0.1831 - accuracy: 0.9227 - val_loss: 0.2392 - val_accuracy: 0.8904\n",
      "Epoch 44/100\n",
      "32/32 [==============================] - 1s 35ms/step - loss: 0.1531 - accuracy: 0.9335 - val_loss: 0.2599 - val_accuracy: 0.8858\n",
      "Epoch 45/100\n",
      "32/32 [==============================] - 1s 31ms/step - loss: 0.1500 - accuracy: 0.9374 - val_loss: 0.2180 - val_accuracy: 0.9132\n",
      "Epoch 46/100\n",
      "32/32 [==============================] - 1s 32ms/step - loss: 0.1575 - accuracy: 0.9315 - val_loss: 0.2151 - val_accuracy: 0.8995\n",
      "Epoch 47/100\n",
      "32/32 [==============================] - 1s 30ms/step - loss: 0.1857 - accuracy: 0.9198 - val_loss: 0.2360 - val_accuracy: 0.9041\n",
      "Epoch 48/100\n",
      "32/32 [==============================] - 1s 35ms/step - loss: 0.1772 - accuracy: 0.9168 - val_loss: 0.2323 - val_accuracy: 0.8950\n",
      "Epoch 49/100\n",
      "32/32 [==============================] - 1s 33ms/step - loss: 0.1639 - accuracy: 0.9305 - val_loss: 0.2530 - val_accuracy: 0.8995\n",
      "Epoch 50/100\n",
      "32/32 [==============================] - 1s 32ms/step - loss: 0.1841 - accuracy: 0.9178 - val_loss: 0.3013 - val_accuracy: 0.8904\n",
      "Epoch 51/100\n",
      "32/32 [==============================] - 1s 33ms/step - loss: 0.1646 - accuracy: 0.9295 - val_loss: 0.2254 - val_accuracy: 0.8950\n",
      "Epoch 52/100\n",
      "32/32 [==============================] - 1s 33ms/step - loss: 0.1517 - accuracy: 0.9325 - val_loss: 0.2644 - val_accuracy: 0.8858\n",
      "Epoch 53/100\n",
      "32/32 [==============================] - 1s 32ms/step - loss: 0.1557 - accuracy: 0.9344 - val_loss: 0.2697 - val_accuracy: 0.8904\n",
      "Epoch 54/100\n",
      "32/32 [==============================] - 1s 34ms/step - loss: 0.1395 - accuracy: 0.9413 - val_loss: 0.2671 - val_accuracy: 0.8950\n",
      "Epoch 55/100\n",
      "32/32 [==============================] - 1s 32ms/step - loss: 0.1470 - accuracy: 0.9384 - val_loss: 0.2383 - val_accuracy: 0.9132\n",
      "Epoch 56/100\n",
      "32/32 [==============================] - 1s 33ms/step - loss: 0.1540 - accuracy: 0.9384 - val_loss: 0.2497 - val_accuracy: 0.9087\n",
      "Epoch 57/100\n",
      "32/32 [==============================] - 1s 33ms/step - loss: 0.1875 - accuracy: 0.9188 - val_loss: 0.2724 - val_accuracy: 0.8813\n",
      "Epoch 58/100\n",
      "32/32 [==============================] - 1s 31ms/step - loss: 0.1733 - accuracy: 0.9247 - val_loss: 0.2701 - val_accuracy: 0.8813\n",
      "Epoch 59/100\n",
      "32/32 [==============================] - 1s 31ms/step - loss: 0.1522 - accuracy: 0.9393 - val_loss: 0.2683 - val_accuracy: 0.8904\n",
      "Epoch 60/100\n",
      "32/32 [==============================] - 1s 31ms/step - loss: 0.1447 - accuracy: 0.9325 - val_loss: 0.2734 - val_accuracy: 0.8995\n",
      "Epoch 61/100\n",
      "32/32 [==============================] - 1s 32ms/step - loss: 0.1419 - accuracy: 0.9374 - val_loss: 0.2999 - val_accuracy: 0.8767\n",
      "Epoch 62/100\n",
      "32/32 [==============================] - 1s 30ms/step - loss: 0.1519 - accuracy: 0.9344 - val_loss: 0.2402 - val_accuracy: 0.8904\n",
      "Epoch 63/100\n",
      "32/32 [==============================] - 1s 32ms/step - loss: 0.1311 - accuracy: 0.9452 - val_loss: 0.2365 - val_accuracy: 0.9041\n",
      "Epoch 64/100\n",
      "32/32 [==============================] - 1s 32ms/step - loss: 0.1426 - accuracy: 0.9384 - val_loss: 0.3149 - val_accuracy: 0.8813\n",
      "Epoch 65/100\n",
      "32/32 [==============================] - 1s 32ms/step - loss: 0.1414 - accuracy: 0.9462 - val_loss: 0.4191 - val_accuracy: 0.8539\n",
      "Epoch 66/100\n",
      "32/32 [==============================] - 1s 32ms/step - loss: 0.1487 - accuracy: 0.9344 - val_loss: 0.2532 - val_accuracy: 0.9087\n",
      "Epoch 67/100\n",
      "32/32 [==============================] - 1s 33ms/step - loss: 0.1418 - accuracy: 0.9374 - val_loss: 0.2673 - val_accuracy: 0.8813\n",
      "Epoch 68/100\n",
      "32/32 [==============================] - 1s 33ms/step - loss: 0.1423 - accuracy: 0.9325 - val_loss: 0.2283 - val_accuracy: 0.9087\n",
      "Epoch 69/100\n",
      "32/32 [==============================] - 1s 33ms/step - loss: 0.1479 - accuracy: 0.9393 - val_loss: 0.3036 - val_accuracy: 0.8904\n",
      "Epoch 70/100\n",
      "32/32 [==============================] - 1s 33ms/step - loss: 0.1397 - accuracy: 0.9354 - val_loss: 0.2696 - val_accuracy: 0.9087\n",
      "Epoch 71/100\n",
      "32/32 [==============================] - 1s 33ms/step - loss: 0.1266 - accuracy: 0.9462 - val_loss: 0.3120 - val_accuracy: 0.8904\n",
      "Epoch 72/100\n",
      "32/32 [==============================] - 1s 31ms/step - loss: 0.1391 - accuracy: 0.9393 - val_loss: 0.2720 - val_accuracy: 0.8995\n",
      "Epoch 73/100\n",
      "32/32 [==============================] - 1s 31ms/step - loss: 0.1254 - accuracy: 0.9540 - val_loss: 0.2836 - val_accuracy: 0.8995\n",
      "Epoch 74/100\n",
      "32/32 [==============================] - 1s 31ms/step - loss: 0.1188 - accuracy: 0.9491 - val_loss: 0.2770 - val_accuracy: 0.9087\n",
      "Epoch 75/100\n",
      "32/32 [==============================] - 1s 33ms/step - loss: 0.1295 - accuracy: 0.9501 - val_loss: 0.3654 - val_accuracy: 0.8858\n",
      "Epoch 76/100\n",
      "32/32 [==============================] - 1s 43ms/step - loss: 0.1468 - accuracy: 0.9354 - val_loss: 0.3159 - val_accuracy: 0.8630\n",
      "Epoch 77/100\n",
      "32/32 [==============================] - 2s 65ms/step - loss: 0.1315 - accuracy: 0.9452 - val_loss: 0.2871 - val_accuracy: 0.8950\n",
      "Epoch 78/100\n",
      "32/32 [==============================] - 2s 53ms/step - loss: 0.1006 - accuracy: 0.9628 - val_loss: 0.3054 - val_accuracy: 0.8904\n",
      "Epoch 79/100\n",
      "32/32 [==============================] - 1s 37ms/step - loss: 0.1287 - accuracy: 0.9491 - val_loss: 0.2902 - val_accuracy: 0.8676\n",
      "Epoch 80/100\n",
      "32/32 [==============================] - 1s 39ms/step - loss: 0.1296 - accuracy: 0.9442 - val_loss: 0.4269 - val_accuracy: 0.8813\n",
      "Epoch 81/100\n",
      "32/32 [==============================] - 1s 40ms/step - loss: 0.1524 - accuracy: 0.9305 - val_loss: 0.3254 - val_accuracy: 0.8721\n",
      "Epoch 82/100\n",
      "32/32 [==============================] - 2s 54ms/step - loss: 0.1206 - accuracy: 0.9501 - val_loss: 0.2825 - val_accuracy: 0.9041\n",
      "Epoch 83/100\n",
      "32/32 [==============================] - 2s 63ms/step - loss: 0.1512 - accuracy: 0.9354 - val_loss: 0.2896 - val_accuracy: 0.8858\n",
      "Epoch 84/100\n",
      "32/32 [==============================] - 2s 49ms/step - loss: 0.2086 - accuracy: 0.9188 - val_loss: 0.2916 - val_accuracy: 0.8676\n",
      "Epoch 85/100\n",
      "32/32 [==============================] - 2s 51ms/step - loss: 0.1538 - accuracy: 0.9384 - val_loss: 0.2239 - val_accuracy: 0.9132\n",
      "Epoch 86/100\n",
      "32/32 [==============================] - 2s 63ms/step - loss: 0.1401 - accuracy: 0.9384 - val_loss: 0.3119 - val_accuracy: 0.8950\n",
      "Epoch 87/100\n",
      "32/32 [==============================] - 2s 76ms/step - loss: 0.1455 - accuracy: 0.9393 - val_loss: 0.2523 - val_accuracy: 0.8767\n",
      "Epoch 88/100\n",
      "32/32 [==============================] - 2s 59ms/step - loss: 0.1195 - accuracy: 0.9540 - val_loss: 0.3182 - val_accuracy: 0.8904\n",
      "Epoch 89/100\n",
      "32/32 [==============================] - 2s 59ms/step - loss: 0.1200 - accuracy: 0.9472 - val_loss: 0.3131 - val_accuracy: 0.9132\n",
      "Epoch 90/100\n",
      "32/32 [==============================] - 2s 48ms/step - loss: 0.1155 - accuracy: 0.9511 - val_loss: 0.2784 - val_accuracy: 0.8995\n",
      "Epoch 91/100\n",
      "32/32 [==============================] - 1s 39ms/step - loss: 0.1307 - accuracy: 0.9403 - val_loss: 0.2647 - val_accuracy: 0.9087\n",
      "Epoch 92/100\n",
      "32/32 [==============================] - 1s 42ms/step - loss: 0.1143 - accuracy: 0.9540 - val_loss: 0.3035 - val_accuracy: 0.9224\n",
      "Epoch 93/100\n",
      "32/32 [==============================] - 1s 40ms/step - loss: 0.1118 - accuracy: 0.9599 - val_loss: 0.3385 - val_accuracy: 0.9041\n",
      "Epoch 94/100\n",
      "32/32 [==============================] - 1s 47ms/step - loss: 0.1228 - accuracy: 0.9530 - val_loss: 0.3683 - val_accuracy: 0.8767\n",
      "Epoch 95/100\n",
      "32/32 [==============================] - 3s 84ms/step - loss: 0.1161 - accuracy: 0.9511 - val_loss: 0.3538 - val_accuracy: 0.8904\n",
      "Epoch 96/100\n",
      "32/32 [==============================] - 1s 33ms/step - loss: 0.1324 - accuracy: 0.9472 - val_loss: 0.3017 - val_accuracy: 0.9041\n",
      "Epoch 97/100\n",
      "32/32 [==============================] - 1s 32ms/step - loss: 0.1328 - accuracy: 0.9403 - val_loss: 0.2894 - val_accuracy: 0.9041\n",
      "Epoch 98/100\n",
      "32/32 [==============================] - 1s 34ms/step - loss: 0.1094 - accuracy: 0.9521 - val_loss: 0.3063 - val_accuracy: 0.8950\n",
      "Epoch 99/100\n",
      "32/32 [==============================] - 1s 34ms/step - loss: 0.0903 - accuracy: 0.9648 - val_loss: 0.3414 - val_accuracy: 0.8950\n",
      "Epoch 100/100\n",
      "32/32 [==============================] - 1s 34ms/step - loss: 0.0929 - accuracy: 0.9609 - val_loss: 0.3556 - val_accuracy: 0.8950\n"
     ]
    }
   ],
   "source": [
    "##Over fitted ANN Model with complex Architechture\n",
    "model_2 = Sequential([\n",
    "    Dense(1000, activation='relu', input_shape=(10,)),\n",
    "    Dense(1000, activation='relu'),\n",
    "    Dense(1000, activation='relu'),\n",
    "    Dense(1000, activation='relu'),\n",
    "    Dense(1, activation='sigmoid'),\n",
    "])\n",
    "\n",
    "model_2.compile(optimizer='adam',\n",
    "              loss='binary_crossentropy',\n",
    "              metrics=['accuracy'])\n",
    "              \n",
    "hist_2 = model_2.fit(X_train, Y_train,\n",
    "          batch_size=32, epochs=100,\n",
    "          validation_data=(X_val, Y_val))"
   ]
  },
  {
   "cell_type": "code",
   "execution_count": 31,
   "id": "4c3b3dad",
   "metadata": {},
   "outputs": [
    {
     "data": {
      "image/png": "[encoded data removed]",
      "text/plain": [
       "<Figure size 432x288 with 1 Axes>"
      ]
     },
     "metadata": {
      "needs_background": "light"
     },
     "output_type": "display_data"
    }
   ],
   "source": [
    "plt.plot(hist_2.history['loss'])\n",
    "plt.plot(hist_2.history['val_loss'])\n",
    "plt.title('Model loss')\n",
    "plt.ylabel('Loss')\n",
    "plt.xlabel('Epoch')\n",
    "plt.legend(['Train', 'Val'], loc='upper right')\n",
    "plt.show()"
   ]
  },
  {
   "cell_type": "code",
   "execution_count": 32,
   "id": "a32a4376",
   "metadata": {},
   "outputs": [
    {
     "data": {
      "image/png": "[encoded data removed]",
      "text/plain": [
       "<Figure size 432x288 with 1 Axes>"
      ]
     },
     "metadata": {
      "needs_background": "light"
     },
     "output_type": "display_data"
    }
   ],
   "source": [
    "plt.plot(hist_2.history['accuracy'])\n",
    "plt.plot(hist_2.history['val_accuracy'])\n",
    "plt.title('Model accuracy')\n",
    "plt.ylabel('Accuracy')\n",
    "plt.xlabel('Epoch')\n",
    "plt.legend(['Train', 'Val'], loc='lower right')\n",
    "plt.show()"
   ]
  },
  {
   "cell_type": "code",
   "execution_count": null,
   "id": "809d1795",
   "metadata": {},
   "outputs": [],
   "source": []
  }
 ],
 "metadata": {
  "kernelspec": {
   "display_name": "Python 3 (ipykernel)",
   "language": "python",
   "name": "python3"
  },
  "language_info": {
   "codemirror_mode": {
    "name": "ipython",
    "version": 3
   },
   "file_extension": ".py",
   "mimetype": "text/x-python",
   "name": "python",
   "nbconvert_exporter": "python",
   "pygments_lexer": "ipython3",
   "version": "3.10.4"
  }
 },
 "nbformat": 4,
 "nbformat_minor": 5
}
