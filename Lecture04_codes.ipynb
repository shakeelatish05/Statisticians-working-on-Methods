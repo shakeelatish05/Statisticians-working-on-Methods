{
 "cells": [
  {
   "cell_type": "code",
   "execution_count": 20,
   "id": "6684bc14",
   "metadata": {},
   "outputs": [
    {
     "name": "stdout",
     "output_type": "stream",
     "text": [
      "     Case  Class           I0     PA500       HFS           DA           Area  \\\n",
      "0        1   car   524.794072  0.187448  0.032114   228.800228    6843.598481   \n",
      "1        2   car   330.000000  0.226893  0.265290   121.154201    3163.239472   \n",
      "2        3   car   551.879287  0.232478  0.063530   264.804935   11888.391830   \n",
      "3        4   car   380.000000  0.240855  0.286234   137.640111    5402.171180   \n",
      "4        5   car   362.831266  0.200713  0.244346   124.912559    3290.462446   \n",
      "..     ...   ...          ...       ...       ...          ...            ...   \n",
      "101    102   adi  2000.000000  0.106989  0.105418   520.222649   40087.920980   \n",
      "102    103   adi  2600.000000  0.200538  0.208043  1063.441427  174480.476200   \n",
      "103    104   adi  1600.000000  0.071908 -0.066323   436.943603   12655.342130   \n",
      "104    105   adi  2300.000000  0.045029  0.136834   185.446044    5086.292497   \n",
      "105    106   adi  2600.000000  0.069988  0.048869   745.474369   39845.773700   \n",
      "\n",
      "           A/DA      Max IP          DR            P  \n",
      "0     29.910803   60.204880  220.737212   556.828334  \n",
      "1     26.109202   69.717361   99.084964   400.225776  \n",
      "2     44.894903   77.793297  253.785300   656.769449  \n",
      "3     39.248524   88.758446  105.198568   493.701814  \n",
      "4     26.342127   69.389389  103.866552   424.796503  \n",
      "..          ...         ...         ...          ...  \n",
      "101   77.059161  204.090347  478.517223  2088.648870  \n",
      "102  164.071543  418.687286  977.552367  2664.583623  \n",
      "103   28.963331  103.732704  432.129749  1475.371534  \n",
      "104   27.427344  178.691742   49.593290  2480.592151  \n",
      "105   53.450226  154.122604  729.368395  2545.419744  \n",
      "\n",
      "[106 rows x 11 columns]\n"
     ]
    }
   ],
   "source": [
    "import pandas as pd \n",
    "import numpy as np ##for statistical models\n",
    "import matplotlib.pyplot as plt ##for plots\n",
    "from sklearn.model_selection import train_test_split ##for spliting data\n",
    "from sklearn import datasets, linear_model, metrics ##for linear regression model\n",
    "import statsmodels.api as sm ##for ols\n",
    "df = pd.read_csv(r'C:\\Users\\Admin\\OneDrive - National University of Sciences & Technology\\Desktop\\Breast Cancer\\BreastTissue.csv')   #read the csv file (put 'r' before the path string to address any special characters in the path, such as '\\'). Don't forget to put the file name at the end of the path + \".csv\"\n",
    "print (df)"
   ]
  },
  {
   "cell_type": "code",
   "execution_count": 21,
   "id": "9f0e15f0",
   "metadata": {},
   "outputs": [
    {
     "data": {
      "text/plain": [
       "<matplotlib.collections.PathCollection at 0x20e75abfdf0>"
      ]
     },
     "execution_count": 21,
     "metadata": {},
     "output_type": "execute_result"
    },
    {
     "data": {
      "image/png": "[encoded data removed]",
      "text/plain": [
       "<Figure size 432x288 with 1 Axes>"
      ]
     },
     "metadata": {
      "needs_background": "light"
     },
     "output_type": "display_data"
    }
   ],
   "source": [
    "features = ['DA', 'Area'] ##Create list of all independent variables from your data set\n",
    "X = df.loc[:, features] ### Sub-data consisting all X variables\n",
    "X = sm.add_constant(X)\n",
    "y = df.loc[:, ['HFS']]##Dependent variable\n",
    "X_train, X_test, y_train, y_test = train_test_split(X, y, \n",
    "random_state=0, train_size = .75)##Spliting data into training and testing\n",
    "reg = linear_model.LinearRegression() ##Runing a regression model using using linear_model package  \n",
    "# train the model using the training sets\n",
    "model = sm.OLS(y_train, X_train).fit() ## sm.OLS(output, input)\n",
    "predictions = model.predict(X_train)\n",
    "# Print out the summary statistics\n",
    "model.summary()\n",
    "plt.scatter(model.predict(X_train), y_train, color = \"red\", s = 11, label = 'Scatter Plot')"
   ]
  },
  {
   "cell_type": "code",
   "execution_count": 22,
   "id": "4a6f6cd7",
   "metadata": {},
   "outputs": [
    {
     "data": {
      "text/html": [
       "<table class=\"simpletable\">\n",
       "<caption>OLS Regression Results</caption>\n",
       "<tr>\n",
       "  <th>Dep. Variable:</th>           <td>HFS</td>       <th>  R-squared:         </th> <td>   0.050</td>\n",
       "</tr>\n",
       "<tr>\n",
       "  <th>Model:</th>                   <td>OLS</td>       <th>  Adj. R-squared:    </th> <td>   0.025</td>\n",
       "</tr>\n",
       "<tr>\n",
       "  <th>Method:</th>             <td>Least Squares</td>  <th>  F-statistic:       </th> <td>   1.983</td>\n",
       "</tr>\n",
       "<tr>\n",
       "  <th>Date:</th>             <td>Thu, 06 Oct 2022</td> <th>  Prob (F-statistic):</th>  <td> 0.145</td> \n",
       "</tr>\n",
       "<tr>\n",
       "  <th>Time:</th>                 <td>04:29:34</td>     <th>  Log-Likelihood:    </th> <td>  77.305</td>\n",
       "</tr>\n",
       "<tr>\n",
       "  <th>No. Observations:</th>      <td>    79</td>      <th>  AIC:               </th> <td>  -148.6</td>\n",
       "</tr>\n",
       "<tr>\n",
       "  <th>Df Residuals:</th>          <td>    76</td>      <th>  BIC:               </th> <td>  -141.5</td>\n",
       "</tr>\n",
       "<tr>\n",
       "  <th>Df Model:</th>              <td>     2</td>      <th>                     </th>     <td> </td>   \n",
       "</tr>\n",
       "<tr>\n",
       "  <th>Covariance Type:</th>      <td>nonrobust</td>    <th>                     </th>     <td> </td>   \n",
       "</tr>\n",
       "</table>\n",
       "<table class=\"simpletable\">\n",
       "<tr>\n",
       "    <td></td>       <th>coef</th>     <th>std err</th>      <th>t</th>      <th>P>|t|</th>  <th>[0.025</th>    <th>0.975]</th>  \n",
       "</tr>\n",
       "<tr>\n",
       "  <th>const</th> <td>    0.1101</td> <td>    0.015</td> <td>    7.201</td> <td> 0.000</td> <td>    0.080</td> <td>    0.141</td>\n",
       "</tr>\n",
       "<tr>\n",
       "  <th>DA</th>    <td>-5.842e-05</td> <td> 7.71e-05</td> <td>   -0.758</td> <td> 0.451</td> <td>   -0.000</td> <td> 9.51e-05</td>\n",
       "</tr>\n",
       "<tr>\n",
       "  <th>Area</th>  <td> 1.344e-06</td> <td> 7.27e-07</td> <td>    1.848</td> <td> 0.068</td> <td>-1.04e-07</td> <td> 2.79e-06</td>\n",
       "</tr>\n",
       "</table>\n",
       "<table class=\"simpletable\">\n",
       "<tr>\n",
       "  <th>Omnibus:</th>       <td>23.618</td> <th>  Durbin-Watson:     </th> <td>   2.153</td>\n",
       "</tr>\n",
       "<tr>\n",
       "  <th>Prob(Omnibus):</th> <td> 0.000</td> <th>  Jarque-Bera (JB):  </th> <td>  35.409</td>\n",
       "</tr>\n",
       "<tr>\n",
       "  <th>Skew:</th>          <td> 1.238</td> <th>  Prob(JB):          </th> <td>2.05e-08</td>\n",
       "</tr>\n",
       "<tr>\n",
       "  <th>Kurtosis:</th>      <td> 5.151</td> <th>  Cond. No.          </th> <td>3.09e+04</td>\n",
       "</tr>\n",
       "</table><br/><br/>Notes:<br/>[1] Standard Errors assume that the covariance matrix of the errors is correctly specified.<br/>[2] The condition number is large, 3.09e+04. This might indicate that there are<br/>strong multicollinearity or other numerical problems."
      ],
      "text/plain": [
       "<class 'statsmodels.iolib.summary.Summary'>\n",
       "\"\"\"\n",
       "                            OLS Regression Results                            \n",
       "==============================================================================\n",
       "Dep. Variable:                    HFS   R-squared:                       0.050\n",
       "Model:                            OLS   Adj. R-squared:                  0.025\n",
       "Method:                 Least Squares   F-statistic:                     1.983\n",
       "Date:                Thu, 06 Oct 2022   Prob (F-statistic):              0.145\n",
       "Time:                        04:29:34   Log-Likelihood:                 77.305\n",
       "No. Observations:                  79   AIC:                            -148.6\n",
       "Df Residuals:                      76   BIC:                            -141.5\n",
       "Df Model:                           2                                         \n",
       "Covariance Type:            nonrobust                                         \n",
       "==============================================================================\n",
       "                 coef    std err          t      P>|t|      [0.025      0.975]\n",
       "------------------------------------------------------------------------------\n",
       "const          0.1101      0.015      7.201      0.000       0.080       0.141\n",
       "DA         -5.842e-05   7.71e-05     -0.758      0.451      -0.000    9.51e-05\n",
       "Area        1.344e-06   7.27e-07      1.848      0.068   -1.04e-07    2.79e-06\n",
       "==============================================================================\n",
       "Omnibus:                       23.618   Durbin-Watson:                   2.153\n",
       "Prob(Omnibus):                  0.000   Jarque-Bera (JB):               35.409\n",
       "Skew:                           1.238   Prob(JB):                     2.05e-08\n",
       "Kurtosis:                       5.151   Cond. No.                     3.09e+04\n",
       "==============================================================================\n",
       "\n",
       "Notes:\n",
       "[1] Standard Errors assume that the covariance matrix of the errors is correctly specified.\n",
       "[2] The condition number is large, 3.09e+04. This might indicate that there are\n",
       "strong multicollinearity or other numerical problems.\n",
       "\"\"\""
      ]
     },
     "execution_count": 22,
     "metadata": {},
     "output_type": "execute_result"
    }
   ],
   "source": [
    "model = sm.OLS(y_train, X_train).fit() ## sm.OLS(output, input)\n",
    "predictions = model.predict(X_train)\n",
    "predictions_test= model.predict(X_test)\n",
    "model.summary()\n",
    "#predictions_test"
   ]
  },
  {
   "cell_type": "code",
   "execution_count": null,
   "id": "30704514",
   "metadata": {},
   "outputs": [],
   "source": []
  }
 ],
 "metadata": {
  "kernelspec": {
   "display_name": "Python 3 (ipykernel)",
   "language": "python",
   "name": "python3"
  },
  "language_info": {
   "codemirror_mode": {
    "name": "ipython",
    "version": 3
   },
   "file_extension": ".py",
   "mimetype": "text/x-python",
   "name": "python",
   "nbconvert_exporter": "python",
   "pygments_lexer": "ipython3",
   "version": "3.9.12"
  }
 },
 "nbformat": 4,
 "nbformat_minor": 5
}
